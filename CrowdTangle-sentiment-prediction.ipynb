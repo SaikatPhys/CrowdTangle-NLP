{
  "cells": [
    {
      "cell_type": "markdown",
      "source": [
        "# Forward prediction of Hindi sentiment on `CrowdTangle` dataset"
      ],
      "metadata": {
        "id": "vdh6covbp1Gr"
      }
    },
    {
      "cell_type": "markdown",
      "metadata": {
        "id": "6rk1dAvSLOtS"
      },
      "source": [
        "## Installs and imports"
      ]
    },
    {
      "cell_type": "code",
      "execution_count": 1,
      "metadata": {
        "colab": {
          "base_uri": "https://localhost:8080/"
        },
        "id": "nKftOu9fyC8R",
        "outputId": "75aed994-91a3-4592-abb8-64948366c982"
      },
      "outputs": [
        {
          "output_type": "stream",
          "name": "stdout",
          "text": [
            "Looking in indexes: https://pypi.org/simple, https://us-python.pkg.dev/colab-wheels/public/simple/\n",
            "Requirement already satisfied: pip in /usr/local/lib/python3.7/dist-packages (21.1.3)\n",
            "Collecting pip\n",
            "  Downloading pip-22.3-py3-none-any.whl (2.1 MB)\n",
            "\u001b[K     |████████████████████████████████| 2.1 MB 5.1 MB/s \n",
            "\u001b[?25hInstalling collected packages: pip\n",
            "  Attempting uninstall: pip\n",
            "    Found existing installation: pip 21.1.3\n",
            "    Uninstalling pip-21.1.3:\n",
            "      Successfully uninstalled pip-21.1.3\n",
            "Successfully installed pip-22.3\n",
            "Looking in indexes: https://pypi.org/simple, https://us-python.pkg.dev/colab-wheels/public/simple/\n",
            "Collecting sentencepiece\n",
            "  Downloading sentencepiece-0.1.97-cp37-cp37m-manylinux_2_17_x86_64.manylinux2014_x86_64.whl (1.3 MB)\n",
            "\u001b[2K     \u001b[90m━━━━━━━━━━━━━━━━━━━━━━━━━━━━━━━━━━━━━━━━\u001b[0m \u001b[32m1.3/1.3 MB\u001b[0m \u001b[31m20.7 MB/s\u001b[0m eta \u001b[36m0:00:00\u001b[0m\n",
            "\u001b[?25hInstalling collected packages: sentencepiece\n",
            "Successfully installed sentencepiece-0.1.97\n",
            "\u001b[33mWARNING: Running pip as the 'root' user can result in broken permissions and conflicting behaviour with the system package manager. It is recommended to use a virtual environment instead: https://pip.pypa.io/warnings/venv\u001b[0m\u001b[33m\n",
            "\u001b[0mLooking in indexes: https://pypi.org/simple, https://us-python.pkg.dev/colab-wheels/public/simple/\n",
            "Collecting datasets\n",
            "  Downloading datasets-2.6.1-py3-none-any.whl (441 kB)\n",
            "\u001b[2K     \u001b[90m━━━━━━━━━━━━━━━━━━━━━━━━━━━━━━━━━━━━━━━\u001b[0m \u001b[32m441.9/441.9 kB\u001b[0m \u001b[31m9.1 MB/s\u001b[0m eta \u001b[36m0:00:00\u001b[0m\n",
            "\u001b[?25hRequirement already satisfied: importlib-metadata in /usr/local/lib/python3.7/dist-packages (from datasets) (4.13.0)\n",
            "Requirement already satisfied: requests>=2.19.0 in /usr/local/lib/python3.7/dist-packages (from datasets) (2.23.0)\n",
            "Requirement already satisfied: tqdm>=4.62.1 in /usr/local/lib/python3.7/dist-packages (from datasets) (4.64.1)\n",
            "Collecting huggingface-hub<1.0.0,>=0.2.0\n",
            "  Downloading huggingface_hub-0.10.1-py3-none-any.whl (163 kB)\n",
            "\u001b[2K     \u001b[90m━━━━━━━━━━━━━━━━━━━━━━━━━━━━━━━━━━━━━━\u001b[0m \u001b[32m163.5/163.5 kB\u001b[0m \u001b[31m18.4 MB/s\u001b[0m eta \u001b[36m0:00:00\u001b[0m\n",
            "\u001b[?25hRequirement already satisfied: fsspec[http]>=2021.11.1 in /usr/local/lib/python3.7/dist-packages (from datasets) (2022.8.2)\n",
            "Requirement already satisfied: dill<0.3.6 in /usr/local/lib/python3.7/dist-packages (from datasets) (0.3.5.1)\n",
            "Requirement already satisfied: pyyaml>=5.1 in /usr/local/lib/python3.7/dist-packages (from datasets) (6.0)\n",
            "Collecting responses<0.19\n",
            "  Downloading responses-0.18.0-py3-none-any.whl (38 kB)\n",
            "Collecting xxhash\n",
            "  Downloading xxhash-3.1.0-cp37-cp37m-manylinux_2_17_x86_64.manylinux2014_x86_64.whl (212 kB)\n",
            "\u001b[2K     \u001b[90m━━━━━━━━━━━━━━━━━━━━━━━━━━━━━━━━━━━━━━\u001b[0m \u001b[32m213.0/213.0 kB\u001b[0m \u001b[31m23.6 MB/s\u001b[0m eta \u001b[36m0:00:00\u001b[0m\n",
            "\u001b[?25hRequirement already satisfied: aiohttp in /usr/local/lib/python3.7/dist-packages (from datasets) (3.8.3)\n",
            "Requirement already satisfied: packaging in /usr/local/lib/python3.7/dist-packages (from datasets) (21.3)\n",
            "Requirement already satisfied: pyarrow>=6.0.0 in /usr/local/lib/python3.7/dist-packages (from datasets) (6.0.1)\n",
            "Requirement already satisfied: pandas in /usr/local/lib/python3.7/dist-packages (from datasets) (1.3.5)\n",
            "Requirement already satisfied: numpy>=1.17 in /usr/local/lib/python3.7/dist-packages (from datasets) (1.21.6)\n",
            "Collecting multiprocess\n",
            "  Downloading multiprocess-0.70.13-py37-none-any.whl (115 kB)\n",
            "\u001b[2K     \u001b[90m━━━━━━━━━━━━━━━━━━━━━━━━━━━━━━━━━━━━━━\u001b[0m \u001b[32m115.1/115.1 kB\u001b[0m \u001b[31m14.2 MB/s\u001b[0m eta \u001b[36m0:00:00\u001b[0m\n",
            "\u001b[?25hRequirement already satisfied: frozenlist>=1.1.1 in /usr/local/lib/python3.7/dist-packages (from aiohttp->datasets) (1.3.1)\n",
            "Requirement already satisfied: charset-normalizer<3.0,>=2.0 in /usr/local/lib/python3.7/dist-packages (from aiohttp->datasets) (2.1.1)\n",
            "Requirement already satisfied: asynctest==0.13.0 in /usr/local/lib/python3.7/dist-packages (from aiohttp->datasets) (0.13.0)\n",
            "Requirement already satisfied: yarl<2.0,>=1.0 in /usr/local/lib/python3.7/dist-packages (from aiohttp->datasets) (1.8.1)\n",
            "Requirement already satisfied: attrs>=17.3.0 in /usr/local/lib/python3.7/dist-packages (from aiohttp->datasets) (22.1.0)\n",
            "Requirement already satisfied: multidict<7.0,>=4.5 in /usr/local/lib/python3.7/dist-packages (from aiohttp->datasets) (6.0.2)\n",
            "Requirement already satisfied: typing-extensions>=3.7.4 in /usr/local/lib/python3.7/dist-packages (from aiohttp->datasets) (4.1.1)\n",
            "Requirement already satisfied: aiosignal>=1.1.2 in /usr/local/lib/python3.7/dist-packages (from aiohttp->datasets) (1.2.0)\n",
            "Requirement already satisfied: async-timeout<5.0,>=4.0.0a3 in /usr/local/lib/python3.7/dist-packages (from aiohttp->datasets) (4.0.2)\n",
            "Requirement already satisfied: filelock in /usr/local/lib/python3.7/dist-packages (from huggingface-hub<1.0.0,>=0.2.0->datasets) (3.8.0)\n",
            "Requirement already satisfied: pyparsing!=3.0.5,>=2.0.2 in /usr/local/lib/python3.7/dist-packages (from packaging->datasets) (3.0.9)\n",
            "Requirement already satisfied: urllib3!=1.25.0,!=1.25.1,<1.26,>=1.21.1 in /usr/local/lib/python3.7/dist-packages (from requests>=2.19.0->datasets) (1.24.3)\n",
            "Requirement already satisfied: chardet<4,>=3.0.2 in /usr/local/lib/python3.7/dist-packages (from requests>=2.19.0->datasets) (3.0.4)\n",
            "Requirement already satisfied: certifi>=2017.4.17 in /usr/local/lib/python3.7/dist-packages (from requests>=2.19.0->datasets) (2022.9.24)\n",
            "Requirement already satisfied: idna<3,>=2.5 in /usr/local/lib/python3.7/dist-packages (from requests>=2.19.0->datasets) (2.10)\n",
            "Collecting urllib3!=1.25.0,!=1.25.1,<1.26,>=1.21.1\n",
            "  Downloading urllib3-1.25.11-py2.py3-none-any.whl (127 kB)\n",
            "\u001b[2K     \u001b[90m━━━━━━━━━━━━━━━━━━━━━━━━━━━━━━━━━━━━━━\u001b[0m \u001b[32m128.0/128.0 kB\u001b[0m \u001b[31m12.8 MB/s\u001b[0m eta \u001b[36m0:00:00\u001b[0m\n",
            "\u001b[?25hRequirement already satisfied: zipp>=0.5 in /usr/local/lib/python3.7/dist-packages (from importlib-metadata->datasets) (3.9.0)\n",
            "Requirement already satisfied: python-dateutil>=2.7.3 in /usr/local/lib/python3.7/dist-packages (from pandas->datasets) (2.8.2)\n",
            "Requirement already satisfied: pytz>=2017.3 in /usr/local/lib/python3.7/dist-packages (from pandas->datasets) (2022.4)\n",
            "Requirement already satisfied: six>=1.5 in /usr/local/lib/python3.7/dist-packages (from python-dateutil>=2.7.3->pandas->datasets) (1.15.0)\n",
            "Installing collected packages: xxhash, urllib3, multiprocess, responses, huggingface-hub, datasets\n",
            "  Attempting uninstall: urllib3\n",
            "    Found existing installation: urllib3 1.24.3\n",
            "    Uninstalling urllib3-1.24.3:\n",
            "      Successfully uninstalled urllib3-1.24.3\n",
            "Successfully installed datasets-2.6.1 huggingface-hub-0.10.1 multiprocess-0.70.13 responses-0.18.0 urllib3-1.25.11 xxhash-3.1.0\n",
            "\u001b[33mWARNING: Running pip as the 'root' user can result in broken permissions and conflicting behaviour with the system package manager. It is recommended to use a virtual environment instead: https://pip.pypa.io/warnings/venv\u001b[0m\u001b[33m\n",
            "\u001b[0mLooking in indexes: https://pypi.org/simple, https://us-python.pkg.dev/colab-wheels/public/simple/\n",
            "Collecting transformers\n",
            "  Downloading transformers-4.23.1-py3-none-any.whl (5.3 MB)\n",
            "\u001b[2K     \u001b[90m━━━━━━━━━━━━━━━━━━━━━━━━━━━━━━━━━━━━━━━━\u001b[0m \u001b[32m5.3/5.3 MB\u001b[0m \u001b[31m50.4 MB/s\u001b[0m eta \u001b[36m0:00:00\u001b[0m\n",
            "\u001b[?25hRequirement already satisfied: pyyaml>=5.1 in /usr/local/lib/python3.7/dist-packages (from transformers) (6.0)\n",
            "Requirement already satisfied: requests in /usr/local/lib/python3.7/dist-packages (from transformers) (2.23.0)\n",
            "Requirement already satisfied: numpy>=1.17 in /usr/local/lib/python3.7/dist-packages (from transformers) (1.21.6)\n",
            "Requirement already satisfied: filelock in /usr/local/lib/python3.7/dist-packages (from transformers) (3.8.0)\n",
            "Requirement already satisfied: huggingface-hub<1.0,>=0.10.0 in /usr/local/lib/python3.7/dist-packages (from transformers) (0.10.1)\n",
            "Requirement already satisfied: tqdm>=4.27 in /usr/local/lib/python3.7/dist-packages (from transformers) (4.64.1)\n",
            "Requirement already satisfied: packaging>=20.0 in /usr/local/lib/python3.7/dist-packages (from transformers) (21.3)\n",
            "Requirement already satisfied: importlib-metadata in /usr/local/lib/python3.7/dist-packages (from transformers) (4.13.0)\n",
            "Collecting tokenizers!=0.11.3,<0.14,>=0.11.1\n",
            "  Downloading tokenizers-0.13.1-cp37-cp37m-manylinux_2_17_x86_64.manylinux2014_x86_64.whl (7.6 MB)\n",
            "\u001b[2K     \u001b[90m━━━━━━━━━━━━━━━━━━━━━━━━━━━━━━━━━━━━━━━━\u001b[0m \u001b[32m7.6/7.6 MB\u001b[0m \u001b[31m99.6 MB/s\u001b[0m eta \u001b[36m0:00:00\u001b[0m\n",
            "\u001b[?25hRequirement already satisfied: regex!=2019.12.17 in /usr/local/lib/python3.7/dist-packages (from transformers) (2022.6.2)\n",
            "Requirement already satisfied: typing-extensions>=3.7.4.3 in /usr/local/lib/python3.7/dist-packages (from huggingface-hub<1.0,>=0.10.0->transformers) (4.1.1)\n",
            "Requirement already satisfied: pyparsing!=3.0.5,>=2.0.2 in /usr/local/lib/python3.7/dist-packages (from packaging>=20.0->transformers) (3.0.9)\n",
            "Requirement already satisfied: zipp>=0.5 in /usr/local/lib/python3.7/dist-packages (from importlib-metadata->transformers) (3.9.0)\n",
            "Requirement already satisfied: chardet<4,>=3.0.2 in /usr/local/lib/python3.7/dist-packages (from requests->transformers) (3.0.4)\n",
            "Requirement already satisfied: urllib3!=1.25.0,!=1.25.1,<1.26,>=1.21.1 in /usr/local/lib/python3.7/dist-packages (from requests->transformers) (1.25.11)\n",
            "Requirement already satisfied: idna<3,>=2.5 in /usr/local/lib/python3.7/dist-packages (from requests->transformers) (2.10)\n",
            "Requirement already satisfied: certifi>=2017.4.17 in /usr/local/lib/python3.7/dist-packages (from requests->transformers) (2022.9.24)\n",
            "Installing collected packages: tokenizers, transformers\n",
            "Successfully installed tokenizers-0.13.1 transformers-4.23.1\n",
            "\u001b[33mWARNING: Running pip as the 'root' user can result in broken permissions and conflicting behaviour with the system package manager. It is recommended to use a virtual environment instead: https://pip.pypa.io/warnings/venv\u001b[0m\u001b[33m\n",
            "\u001b[0m"
          ]
        }
      ],
      "source": [
        "!pip install --upgrade pip\n",
        "!pip install sentencepiece\n",
        "!pip install datasets\n",
        "!pip install transformers"
      ]
    },
    {
      "cell_type": "code",
      "execution_count": 2,
      "metadata": {
        "id": "Y5f1fFbETSbM"
      },
      "outputs": [],
      "source": [
        "from transformers import AutoTokenizer, AutoConfig, AutoModelForSequenceClassification\n",
        "\n",
        "from matplotlib import pyplot as plt\n",
        "from matplotlib.font_manager import FontProperties\n",
        "\n",
        "from scipy.special import softmax\n",
        "from torch.utils.data import DataLoader\n",
        "\n",
        "import numpy as np\n",
        "import pandas as pd"
      ]
    },
    {
      "cell_type": "markdown",
      "metadata": {
        "id": "XWqZ7LGMFeHV"
      },
      "source": [
        "## Load the `CrowdTangle` dataset"
      ]
    },
    {
      "cell_type": "code",
      "execution_count": 3,
      "metadata": {
        "id": "dZ-s12zoL_1Q",
        "colab": {
          "base_uri": "https://localhost:8080/"
        },
        "outputId": "4e34d856-919b-4527-f398-32dd825a79e1"
      },
      "outputs": [
        {
          "output_type": "stream",
          "name": "stdout",
          "text": [
            "Mounted at /content/drive\n"
          ]
        }
      ],
      "source": [
        "from google.colab import drive\n",
        "drive.mount('/content/drive')"
      ]
    },
    {
      "cell_type": "code",
      "source": [
        "df = pd.read_csv (\n",
        "    '/content/drive/My Drive/CrowdTangle-NLP/2022-07-11-16-34-58-CEST-Historical-Report-2016-12-31--2022-07-11.csv',\n",
        "    low_memory=False,  \n",
        "    lineterminator='\\n', \n",
        "    sep=';', \n",
        "    error_bad_lines=False)"
      ],
      "metadata": {
        "colab": {
          "base_uri": "https://localhost:8080/"
        },
        "id": "x-ykm1bLqhRO",
        "outputId": "f65c3d64-89ac-4f85-bb5c-b944aaf42abd"
      },
      "execution_count": 4,
      "outputs": [
        {
          "output_type": "stream",
          "name": "stderr",
          "text": [
            "/usr/local/lib/python3.7/dist-packages/IPython/core/interactiveshell.py:3326: FutureWarning: The error_bad_lines argument has been deprecated and will be removed in a future version.\n",
            "\n",
            "\n",
            "  exec(code_obj, self.user_global_ns, self.user_ns)\n"
          ]
        }
      ]
    },
    {
      "cell_type": "code",
      "source": [
        "df.shape"
      ],
      "metadata": {
        "colab": {
          "base_uri": "https://localhost:8080/"
        },
        "id": "uQbWJhqPqmQP",
        "outputId": "adc696de-6c62-4cef-902e-6745037d5f05"
      },
      "execution_count": 5,
      "outputs": [
        {
          "output_type": "execute_result",
          "data": {
            "text/plain": [
              "(604703, 40)"
            ]
          },
          "metadata": {},
          "execution_count": 5
        }
      ]
    },
    {
      "cell_type": "markdown",
      "source": [
        "(**Optional**) Because the size of the dataset is too large, let's choose `N` random entries from the dataframe"
      ],
      "metadata": {
        "id": "PH02aXhgqoJl"
      }
    },
    {
      "cell_type": "code",
      "source": [
        "#df = df.sample(n = 50000) # randomly select N entries"
      ],
      "metadata": {
        "id": "-R37iCUSqqmW"
      },
      "execution_count": null,
      "outputs": []
    },
    {
      "cell_type": "code",
      "source": [
        "df.columns"
      ],
      "metadata": {
        "colab": {
          "base_uri": "https://localhost:8080/"
        },
        "id": "xkdDMZqKqvK7",
        "outputId": "c591efa7-59be-4b19-a813-677486f0df1b"
      },
      "execution_count": 6,
      "outputs": [
        {
          "output_type": "execute_result",
          "data": {
            "text/plain": [
              "Index(['account.name', 'account.handle', 'platformId', 'Page Category',\n",
              "       'Page Admin Top Country', 'Page Description', 'Page Created',\n",
              "       'subscriberCount', 'Followers at Posting', 'date', 'Post Created Date',\n",
              "       'Post Created Time', 'type', 'totalInteraction',\n",
              "       'statistics.actual.likeCount', 'statistics.actual.commentCount',\n",
              "       'statistics.actual.shareCount', 'statistics.actual.loveCount',\n",
              "       'statistics.actual.wowCount', 'statistics.actual.hahaCount',\n",
              "       'statistics.actual.sadCount', 'statistics.actual.angryCount',\n",
              "       'statistics.actual.careCount', 'Video Share Status', 'Is Video Owner?',\n",
              "       'statistics.actual.videoPostViewCount',\n",
              "       'statistics.actual.videoTotalViewCount',\n",
              "       'statistics.actual.videoAllCrosspostsViewCount', 'Video Length',\n",
              "       'postUrl', 'message', 'expandedLinks.original',\n",
              "       'expandedLinks.expanded', 'imageText', 'title', 'description',\n",
              "       'brandedContentSponsor.platformId', 'brandedContentSponsor.name',\n",
              "       'brandedContentSponsor.category', 'score'],\n",
              "      dtype='object')"
            ]
          },
          "metadata": {},
          "execution_count": 6
        }
      ]
    },
    {
      "cell_type": "markdown",
      "source": [
        "## Data preprocessing"
      ],
      "metadata": {
        "id": "SBtNHbPOqzz9"
      }
    },
    {
      "cell_type": "markdown",
      "source": [
        "Replace NaN values in particular columns with empty string"
      ],
      "metadata": {
        "id": "UzlAZ2FtrFab"
      }
    },
    {
      "cell_type": "code",
      "source": [
        "df.message = df.message.fillna('')"
      ],
      "metadata": {
        "id": "VF_hTSmRrGRR"
      },
      "execution_count": 7,
      "outputs": []
    },
    {
      "cell_type": "markdown",
      "source": [
        "Extract particular columns and convert into lists"
      ],
      "metadata": {
        "id": "f1GJoq_B9wW3"
      }
    },
    {
      "cell_type": "code",
      "source": [
        "message_list = df ['message'].tolist()\n",
        "\n",
        "print (\"Total number of entries in the dataset:\", len(message_list))"
      ],
      "metadata": {
        "colab": {
          "base_uri": "https://localhost:8080/"
        },
        "id": "do3WSEobrK1I",
        "outputId": "68625913-f3f2-462d-b25c-e5440048246f"
      },
      "execution_count": 8,
      "outputs": [
        {
          "output_type": "stream",
          "name": "stdout",
          "text": [
            "Total number of entries in the dataset: 604703\n"
          ]
        }
      ]
    },
    {
      "cell_type": "markdown",
      "metadata": {
        "id": "LM0f-PnLV8kR"
      },
      "source": [
        "## Load the sentiment analysis model and the tokenizer\n"
      ]
    },
    {
      "cell_type": "markdown",
      "metadata": {
        "id": "QF5Lmm-VyVW4"
      },
      "source": [
        "Define parameters"
      ]
    },
    {
      "cell_type": "code",
      "execution_count": 14,
      "metadata": {
        "id": "4sRwYU_UWU2d"
      },
      "outputs": [],
      "source": [
        "CUDA = True # set to true if using GPU (Runtime -> Change runtime Type -> GPU)\n",
        "\n",
        "BATCH_SIZE = 16\n",
        "\n",
        "n_labels = 3\n",
        "\n",
        "labels_ids = {'negative': 0, 'neutral': 1, 'positive':2}\n",
        "\n",
        "max_length = 312\n",
        "\n",
        "MODEL = \"cardiffnlp/twitter-xlm-roberta-base-sentiment\""
      ]
    },
    {
      "cell_type": "markdown",
      "source": [
        "Load the model and the tokenizer"
      ],
      "metadata": {
        "id": "tVqd_hQVJ_6O"
      }
    },
    {
      "cell_type": "code",
      "execution_count": 10,
      "metadata": {
        "id": "RhvpuzKtXVu4",
        "colab": {
          "base_uri": "https://localhost:8080/",
          "height": 145,
          "referenced_widgets": [
            "26e5c5f1f43e46539a9bdfaa3b5c94c1",
            "beb9461056ee451daaa26994e9c94500",
            "db79f3d51c444fa0a9b865964d789f1a",
            "15ce20175ff94c14a3e2b6cb001ed774",
            "3207d977d27347fb91a209a6c037bfad",
            "9f468fd8b4a24ed5b1f6a886c4174b0d",
            "6b9cc69a132e4c16a91d5850821ecb8f",
            "00471e620d4a4634aceed128ccc761a6",
            "b561ce470a934077a86b2e3921a821fb",
            "00af2ec2ab114b4b8e041529e0e48c41",
            "d93da1301e774e839603a850947fb2be",
            "1ce3b5d30c96496cac045c1144348b11",
            "e15e633cded94770a474ce1f2bf6fbcb",
            "62c6740fe99f4dce964117c468a3d997",
            "301ec8b5e6ed48ee85e7b2dd95b4ec4e",
            "07e8e297d81b49fda99428fb65df4abf",
            "7fe47437117e4f7a99610c8c384fe8f2",
            "3222360ff5ab47a290e5ffcbfd8efaaf",
            "04fa520107a345328f6149b9e18c750f",
            "b23889953cd4420faca3f1404b2de6e2",
            "74f6ac8f6c1d4653a4338a78a0ca588a",
            "8cd5254f9c564030b333c7c228075062",
            "23bab6e273f7449aa30bd97d61cfc3b7",
            "eb0aba2c0f614b878b30f30a660fc402",
            "58abfbf5a46949cfa7e07b5bd49459e3",
            "97186a1f7d4346d7ab6654a2e12ecb0b",
            "d197cdd184b349d7916c4e700e024dc8",
            "4c2fb22b6e9d499d8784c7c3db957305",
            "2ebaae29c0cf444297a987277eae520b",
            "45e2fe555e4943389d795d7491bbe496",
            "de7671ee153843f1ac761a0e5a0b67b5",
            "e4720b4e0c9a4a0796c5c81c239273fb",
            "c070a8ecbb3846dfb290298975eae5bc",
            "7bd0f8998588431c838fb60186279104",
            "5b7078e5a04a44bd8036626732651ad4",
            "e4e2cf0703904f6083db8ea8f5e5da89",
            "74bae7fa54824d0d8cdeffafa2fa7af0",
            "ba8d07a2b2a5464888361964d9ed6512",
            "5b3e8dd42a6749c881e2541cae326c91",
            "db48a69a7401442780fea4a5fd6867b3",
            "ffe7462112154c7b9cb24808e8190bcc",
            "8914399961b84a0ab2e7b3ba58e4341a",
            "a1a2092bb9e649e4b597f6cedb393779",
            "05750cf040c44ade970e0d205b7b2c5b"
          ]
        },
        "outputId": "a9147bb3-9497-4a0f-b69b-f7558a9aabdd"
      },
      "outputs": [
        {
          "output_type": "display_data",
          "data": {
            "text/plain": [
              "Downloading:   0%|          | 0.00/841 [00:00<?, ?B/s]"
            ],
            "application/vnd.jupyter.widget-view+json": {
              "version_major": 2,
              "version_minor": 0,
              "model_id": "26e5c5f1f43e46539a9bdfaa3b5c94c1"
            }
          },
          "metadata": {}
        },
        {
          "output_type": "display_data",
          "data": {
            "text/plain": [
              "Downloading:   0%|          | 0.00/5.07M [00:00<?, ?B/s]"
            ],
            "application/vnd.jupyter.widget-view+json": {
              "version_major": 2,
              "version_minor": 0,
              "model_id": "1ce3b5d30c96496cac045c1144348b11"
            }
          },
          "metadata": {}
        },
        {
          "output_type": "display_data",
          "data": {
            "text/plain": [
              "Downloading:   0%|          | 0.00/150 [00:00<?, ?B/s]"
            ],
            "application/vnd.jupyter.widget-view+json": {
              "version_major": 2,
              "version_minor": 0,
              "model_id": "23bab6e273f7449aa30bd97d61cfc3b7"
            }
          },
          "metadata": {}
        },
        {
          "output_type": "display_data",
          "data": {
            "text/plain": [
              "Downloading:   0%|          | 0.00/1.11G [00:00<?, ?B/s]"
            ],
            "application/vnd.jupyter.widget-view+json": {
              "version_major": 2,
              "version_minor": 0,
              "model_id": "7bd0f8998588431c838fb60186279104"
            }
          },
          "metadata": {}
        }
      ],
      "source": [
        "tokenizer = AutoTokenizer.from_pretrained(MODEL, use_fast=True)\n",
        "\n",
        "config = AutoConfig.from_pretrained(MODEL) # used for id to label name (optional)\n",
        "\n",
        "model = AutoModelForSequenceClassification.from_pretrained(MODEL)\n",
        "\n",
        "if CUDA:\n",
        "  model = model.to('cuda')\n",
        "_ = model.eval()"
      ]
    },
    {
      "cell_type": "markdown",
      "source": [
        "## Define the forward prediction functions"
      ],
      "metadata": {
        "id": "2yOoZ-NHB3WW"
      }
    },
    {
      "cell_type": "code",
      "source": [
        "def forward (text, cuda=True):\n",
        "  encoded_input = tokenizer(text, return_tensors='pt', padding=True, truncation=True, max_length = max_length)\n",
        "  if cuda:\n",
        "    encoded_input.to('cuda')\n",
        "    output = model(**encoded_input)\n",
        "    scores = output[0].detach().cpu().numpy()\n",
        "  else:\n",
        "    output = model(**encoded_input)\n",
        "    scores = output[0].detach().numpy()\n",
        "  \n",
        "  scores = softmax(scores, axis=-1)\n",
        "  return scores"
      ],
      "metadata": {
        "id": "VgwQnVha37uL"
      },
      "execution_count": 11,
      "outputs": []
    },
    {
      "cell_type": "code",
      "source": [
        "def sentiment_pred_score (data_list):\n",
        "  dl = DataLoader(data_list, batch_size=BATCH_SIZE)\n",
        "  sentiment_pred = []\n",
        "\n",
        "  for idx, batch in enumerate(dl):\n",
        "    if idx % 100 == 0:\n",
        "      print('Batch ',idx+1,' of ', len(dl))\n",
        "\n",
        "    if (batch != ''):\n",
        "      scores = forward(batch, cuda=CUDA)\n",
        "      preds = np.argmax(scores, axis=-1)\n",
        "    else:\n",
        "      preds = 1\n",
        "    sentiment_pred.extend(preds)\n",
        "  \n",
        "  return sentiment_pred"
      ],
      "metadata": {
        "id": "1JaK7jX8-vK4"
      },
      "execution_count": 16,
      "outputs": []
    },
    {
      "cell_type": "markdown",
      "source": [
        "## Run sentiment prediction task on the dataset and save the results"
      ],
      "metadata": {
        "id": "HoW8qBfXvJcp"
      }
    },
    {
      "cell_type": "code",
      "source": [
        "message_sentiment_score = sentiment_pred_score (message_list)"
      ],
      "metadata": {
        "colab": {
          "base_uri": "https://localhost:8080/"
        },
        "id": "MrUJoWFA465G",
        "outputId": "a4ff2202-fbed-4cde-95bc-0c941f799af6"
      },
      "execution_count": 17,
      "outputs": [
        {
          "output_type": "stream",
          "name": "stdout",
          "text": [
            "Batch  1  of  37794\n",
            "Batch  101  of  37794\n",
            "Batch  201  of  37794\n",
            "Batch  301  of  37794\n",
            "Batch  401  of  37794\n",
            "Batch  501  of  37794\n",
            "Batch  601  of  37794\n",
            "Batch  701  of  37794\n",
            "Batch  801  of  37794\n",
            "Batch  901  of  37794\n",
            "Batch  1001  of  37794\n",
            "Batch  1101  of  37794\n",
            "Batch  1201  of  37794\n",
            "Batch  1301  of  37794\n",
            "Batch  1401  of  37794\n",
            "Batch  1501  of  37794\n",
            "Batch  1601  of  37794\n",
            "Batch  1701  of  37794\n",
            "Batch  1801  of  37794\n",
            "Batch  1901  of  37794\n",
            "Batch  2001  of  37794\n",
            "Batch  2101  of  37794\n",
            "Batch  2201  of  37794\n",
            "Batch  2301  of  37794\n",
            "Batch  2401  of  37794\n",
            "Batch  2501  of  37794\n",
            "Batch  2601  of  37794\n",
            "Batch  2701  of  37794\n",
            "Batch  2801  of  37794\n",
            "Batch  2901  of  37794\n",
            "Batch  3001  of  37794\n",
            "Batch  3101  of  37794\n",
            "Batch  3201  of  37794\n",
            "Batch  3301  of  37794\n",
            "Batch  3401  of  37794\n",
            "Batch  3501  of  37794\n",
            "Batch  3601  of  37794\n",
            "Batch  3701  of  37794\n",
            "Batch  3801  of  37794\n",
            "Batch  3901  of  37794\n",
            "Batch  4001  of  37794\n",
            "Batch  4101  of  37794\n",
            "Batch  4201  of  37794\n",
            "Batch  4301  of  37794\n",
            "Batch  4401  of  37794\n",
            "Batch  4501  of  37794\n",
            "Batch  4601  of  37794\n",
            "Batch  4701  of  37794\n",
            "Batch  4801  of  37794\n",
            "Batch  4901  of  37794\n",
            "Batch  5001  of  37794\n",
            "Batch  5101  of  37794\n",
            "Batch  5201  of  37794\n",
            "Batch  5301  of  37794\n",
            "Batch  5401  of  37794\n",
            "Batch  5501  of  37794\n",
            "Batch  5601  of  37794\n",
            "Batch  5701  of  37794\n",
            "Batch  5801  of  37794\n",
            "Batch  5901  of  37794\n",
            "Batch  6001  of  37794\n",
            "Batch  6101  of  37794\n",
            "Batch  6201  of  37794\n",
            "Batch  6301  of  37794\n",
            "Batch  6401  of  37794\n",
            "Batch  6501  of  37794\n",
            "Batch  6601  of  37794\n",
            "Batch  6701  of  37794\n",
            "Batch  6801  of  37794\n",
            "Batch  6901  of  37794\n",
            "Batch  7001  of  37794\n",
            "Batch  7101  of  37794\n",
            "Batch  7201  of  37794\n",
            "Batch  7301  of  37794\n",
            "Batch  7401  of  37794\n",
            "Batch  7501  of  37794\n",
            "Batch  7601  of  37794\n",
            "Batch  7701  of  37794\n",
            "Batch  7801  of  37794\n",
            "Batch  7901  of  37794\n",
            "Batch  8001  of  37794\n",
            "Batch  8101  of  37794\n",
            "Batch  8201  of  37794\n",
            "Batch  8301  of  37794\n",
            "Batch  8401  of  37794\n",
            "Batch  8501  of  37794\n",
            "Batch  8601  of  37794\n",
            "Batch  8701  of  37794\n",
            "Batch  8801  of  37794\n",
            "Batch  8901  of  37794\n",
            "Batch  9001  of  37794\n",
            "Batch  9101  of  37794\n",
            "Batch  9201  of  37794\n",
            "Batch  9301  of  37794\n",
            "Batch  9401  of  37794\n",
            "Batch  9501  of  37794\n",
            "Batch  9601  of  37794\n",
            "Batch  9701  of  37794\n",
            "Batch  9801  of  37794\n",
            "Batch  9901  of  37794\n",
            "Batch  10001  of  37794\n",
            "Batch  10101  of  37794\n",
            "Batch  10201  of  37794\n",
            "Batch  10301  of  37794\n",
            "Batch  10401  of  37794\n",
            "Batch  10501  of  37794\n",
            "Batch  10601  of  37794\n",
            "Batch  10701  of  37794\n",
            "Batch  10801  of  37794\n",
            "Batch  10901  of  37794\n",
            "Batch  11001  of  37794\n",
            "Batch  11101  of  37794\n",
            "Batch  11201  of  37794\n",
            "Batch  11301  of  37794\n",
            "Batch  11401  of  37794\n",
            "Batch  11501  of  37794\n",
            "Batch  11601  of  37794\n",
            "Batch  11701  of  37794\n",
            "Batch  11801  of  37794\n",
            "Batch  11901  of  37794\n",
            "Batch  12001  of  37794\n",
            "Batch  12101  of  37794\n",
            "Batch  12201  of  37794\n",
            "Batch  12301  of  37794\n",
            "Batch  12401  of  37794\n",
            "Batch  12501  of  37794\n",
            "Batch  12601  of  37794\n",
            "Batch  12701  of  37794\n",
            "Batch  12801  of  37794\n",
            "Batch  12901  of  37794\n",
            "Batch  13001  of  37794\n",
            "Batch  13101  of  37794\n",
            "Batch  13201  of  37794\n",
            "Batch  13301  of  37794\n",
            "Batch  13401  of  37794\n",
            "Batch  13501  of  37794\n",
            "Batch  13601  of  37794\n",
            "Batch  13701  of  37794\n",
            "Batch  13801  of  37794\n",
            "Batch  13901  of  37794\n",
            "Batch  14001  of  37794\n",
            "Batch  14101  of  37794\n",
            "Batch  14201  of  37794\n",
            "Batch  14301  of  37794\n",
            "Batch  14401  of  37794\n",
            "Batch  14501  of  37794\n",
            "Batch  14601  of  37794\n",
            "Batch  14701  of  37794\n",
            "Batch  14801  of  37794\n",
            "Batch  14901  of  37794\n",
            "Batch  15001  of  37794\n",
            "Batch  15101  of  37794\n",
            "Batch  15201  of  37794\n",
            "Batch  15301  of  37794\n",
            "Batch  15401  of  37794\n",
            "Batch  15501  of  37794\n",
            "Batch  15601  of  37794\n",
            "Batch  15701  of  37794\n",
            "Batch  15801  of  37794\n",
            "Batch  15901  of  37794\n",
            "Batch  16001  of  37794\n",
            "Batch  16101  of  37794\n",
            "Batch  16201  of  37794\n",
            "Batch  16301  of  37794\n",
            "Batch  16401  of  37794\n",
            "Batch  16501  of  37794\n",
            "Batch  16601  of  37794\n",
            "Batch  16701  of  37794\n",
            "Batch  16801  of  37794\n",
            "Batch  16901  of  37794\n",
            "Batch  17001  of  37794\n",
            "Batch  17101  of  37794\n",
            "Batch  17201  of  37794\n",
            "Batch  17301  of  37794\n",
            "Batch  17401  of  37794\n",
            "Batch  17501  of  37794\n",
            "Batch  17601  of  37794\n",
            "Batch  17701  of  37794\n",
            "Batch  17801  of  37794\n",
            "Batch  17901  of  37794\n",
            "Batch  18001  of  37794\n",
            "Batch  18101  of  37794\n",
            "Batch  18201  of  37794\n",
            "Batch  18301  of  37794\n",
            "Batch  18401  of  37794\n",
            "Batch  18501  of  37794\n",
            "Batch  18601  of  37794\n",
            "Batch  18701  of  37794\n",
            "Batch  18801  of  37794\n",
            "Batch  18901  of  37794\n",
            "Batch  19001  of  37794\n",
            "Batch  19101  of  37794\n",
            "Batch  19201  of  37794\n",
            "Batch  19301  of  37794\n",
            "Batch  19401  of  37794\n",
            "Batch  19501  of  37794\n",
            "Batch  19601  of  37794\n",
            "Batch  19701  of  37794\n",
            "Batch  19801  of  37794\n",
            "Batch  19901  of  37794\n",
            "Batch  20001  of  37794\n",
            "Batch  20101  of  37794\n",
            "Batch  20201  of  37794\n",
            "Batch  20301  of  37794\n",
            "Batch  20401  of  37794\n",
            "Batch  20501  of  37794\n",
            "Batch  20601  of  37794\n",
            "Batch  20701  of  37794\n",
            "Batch  20801  of  37794\n",
            "Batch  20901  of  37794\n",
            "Batch  21001  of  37794\n",
            "Batch  21101  of  37794\n",
            "Batch  21201  of  37794\n",
            "Batch  21301  of  37794\n",
            "Batch  21401  of  37794\n",
            "Batch  21501  of  37794\n",
            "Batch  21601  of  37794\n",
            "Batch  21701  of  37794\n",
            "Batch  21801  of  37794\n",
            "Batch  21901  of  37794\n",
            "Batch  22001  of  37794\n",
            "Batch  22101  of  37794\n",
            "Batch  22201  of  37794\n",
            "Batch  22301  of  37794\n",
            "Batch  22401  of  37794\n",
            "Batch  22501  of  37794\n",
            "Batch  22601  of  37794\n",
            "Batch  22701  of  37794\n",
            "Batch  22801  of  37794\n",
            "Batch  22901  of  37794\n",
            "Batch  23001  of  37794\n",
            "Batch  23101  of  37794\n",
            "Batch  23201  of  37794\n",
            "Batch  23301  of  37794\n",
            "Batch  23401  of  37794\n",
            "Batch  23501  of  37794\n",
            "Batch  23601  of  37794\n",
            "Batch  23701  of  37794\n",
            "Batch  23801  of  37794\n",
            "Batch  23901  of  37794\n",
            "Batch  24001  of  37794\n",
            "Batch  24101  of  37794\n",
            "Batch  24201  of  37794\n",
            "Batch  24301  of  37794\n",
            "Batch  24401  of  37794\n",
            "Batch  24501  of  37794\n",
            "Batch  24601  of  37794\n",
            "Batch  24701  of  37794\n",
            "Batch  24801  of  37794\n",
            "Batch  24901  of  37794\n",
            "Batch  25001  of  37794\n",
            "Batch  25101  of  37794\n",
            "Batch  25201  of  37794\n",
            "Batch  25301  of  37794\n",
            "Batch  25401  of  37794\n",
            "Batch  25501  of  37794\n",
            "Batch  25601  of  37794\n",
            "Batch  25701  of  37794\n",
            "Batch  25801  of  37794\n",
            "Batch  25901  of  37794\n",
            "Batch  26001  of  37794\n",
            "Batch  26101  of  37794\n",
            "Batch  26201  of  37794\n",
            "Batch  26301  of  37794\n",
            "Batch  26401  of  37794\n",
            "Batch  26501  of  37794\n",
            "Batch  26601  of  37794\n",
            "Batch  26701  of  37794\n",
            "Batch  26801  of  37794\n",
            "Batch  26901  of  37794\n",
            "Batch  27001  of  37794\n",
            "Batch  27101  of  37794\n",
            "Batch  27201  of  37794\n",
            "Batch  27301  of  37794\n",
            "Batch  27401  of  37794\n",
            "Batch  27501  of  37794\n",
            "Batch  27601  of  37794\n",
            "Batch  27701  of  37794\n",
            "Batch  27801  of  37794\n",
            "Batch  27901  of  37794\n",
            "Batch  28001  of  37794\n",
            "Batch  28101  of  37794\n",
            "Batch  28201  of  37794\n",
            "Batch  28301  of  37794\n",
            "Batch  28401  of  37794\n",
            "Batch  28501  of  37794\n",
            "Batch  28601  of  37794\n",
            "Batch  28701  of  37794\n",
            "Batch  28801  of  37794\n",
            "Batch  28901  of  37794\n",
            "Batch  29001  of  37794\n",
            "Batch  29101  of  37794\n",
            "Batch  29201  of  37794\n",
            "Batch  29301  of  37794\n",
            "Batch  29401  of  37794\n",
            "Batch  29501  of  37794\n",
            "Batch  29601  of  37794\n",
            "Batch  29701  of  37794\n",
            "Batch  29801  of  37794\n",
            "Batch  29901  of  37794\n",
            "Batch  30001  of  37794\n",
            "Batch  30101  of  37794\n",
            "Batch  30201  of  37794\n",
            "Batch  30301  of  37794\n",
            "Batch  30401  of  37794\n",
            "Batch  30501  of  37794\n",
            "Batch  30601  of  37794\n",
            "Batch  30701  of  37794\n",
            "Batch  30801  of  37794\n",
            "Batch  30901  of  37794\n",
            "Batch  31001  of  37794\n",
            "Batch  31101  of  37794\n",
            "Batch  31201  of  37794\n",
            "Batch  31301  of  37794\n",
            "Batch  31401  of  37794\n",
            "Batch  31501  of  37794\n",
            "Batch  31601  of  37794\n",
            "Batch  31701  of  37794\n",
            "Batch  31801  of  37794\n",
            "Batch  31901  of  37794\n",
            "Batch  32001  of  37794\n",
            "Batch  32101  of  37794\n",
            "Batch  32201  of  37794\n",
            "Batch  32301  of  37794\n",
            "Batch  32401  of  37794\n",
            "Batch  32501  of  37794\n",
            "Batch  32601  of  37794\n",
            "Batch  32701  of  37794\n",
            "Batch  32801  of  37794\n",
            "Batch  32901  of  37794\n",
            "Batch  33001  of  37794\n",
            "Batch  33101  of  37794\n",
            "Batch  33201  of  37794\n",
            "Batch  33301  of  37794\n",
            "Batch  33401  of  37794\n",
            "Batch  33501  of  37794\n",
            "Batch  33601  of  37794\n",
            "Batch  33701  of  37794\n",
            "Batch  33801  of  37794\n",
            "Batch  33901  of  37794\n",
            "Batch  34001  of  37794\n",
            "Batch  34101  of  37794\n",
            "Batch  34201  of  37794\n",
            "Batch  34301  of  37794\n",
            "Batch  34401  of  37794\n",
            "Batch  34501  of  37794\n",
            "Batch  34601  of  37794\n",
            "Batch  34701  of  37794\n",
            "Batch  34801  of  37794\n",
            "Batch  34901  of  37794\n",
            "Batch  35001  of  37794\n",
            "Batch  35101  of  37794\n",
            "Batch  35201  of  37794\n",
            "Batch  35301  of  37794\n",
            "Batch  35401  of  37794\n",
            "Batch  35501  of  37794\n",
            "Batch  35601  of  37794\n",
            "Batch  35701  of  37794\n",
            "Batch  35801  of  37794\n",
            "Batch  35901  of  37794\n",
            "Batch  36001  of  37794\n",
            "Batch  36101  of  37794\n",
            "Batch  36201  of  37794\n",
            "Batch  36301  of  37794\n",
            "Batch  36401  of  37794\n",
            "Batch  36501  of  37794\n",
            "Batch  36601  of  37794\n",
            "Batch  36701  of  37794\n",
            "Batch  36801  of  37794\n",
            "Batch  36901  of  37794\n",
            "Batch  37001  of  37794\n",
            "Batch  37101  of  37794\n",
            "Batch  37201  of  37794\n",
            "Batch  37301  of  37794\n",
            "Batch  37401  of  37794\n",
            "Batch  37501  of  37794\n",
            "Batch  37601  of  37794\n",
            "Batch  37701  of  37794\n"
          ]
        }
      ]
    },
    {
      "cell_type": "markdown",
      "source": [
        "Append the prediction scores to the original pandas dataframe"
      ],
      "metadata": {
        "id": "EIyYNT3AB0aZ"
      }
    },
    {
      "cell_type": "code",
      "source": [
        "df ['messageSentiment.score'] = message_sentiment_score"
      ],
      "metadata": {
        "id": "gEVp5nbiB5UC"
      },
      "execution_count": 18,
      "outputs": []
    },
    {
      "cell_type": "code",
      "source": [
        "df.head()"
      ],
      "metadata": {
        "id": "XKzQW-IKCF13"
      },
      "execution_count": null,
      "outputs": []
    },
    {
      "cell_type": "markdown",
      "source": [
        "Save the dataframe (along with the results)"
      ],
      "metadata": {
        "id": "8Lj55xDhKFXw"
      }
    },
    {
      "cell_type": "code",
      "source": [
        "df.to_csv('/content/drive/MyDrive/CrowdTangle-NLP/CT_sentiment.csv', index=False)"
      ],
      "metadata": {
        "id": "BQbQHCj2J8Ql"
      },
      "execution_count": 20,
      "outputs": []
    },
    {
      "cell_type": "markdown",
      "source": [
        "## Visualization of the results"
      ],
      "metadata": {
        "id": "6_TDEoVaJRj6"
      }
    },
    {
      "cell_type": "markdown",
      "source": [
        "Histograms of the predicted scores"
      ],
      "metadata": {
        "id": "gUXlf-HfBKOO"
      }
    },
    {
      "cell_type": "code",
      "source": [
        "x = np.arange(n_labels)\n",
        "bins = np.linspace(0, 2, 8)\n",
        "\n",
        "fig, ax = plt.subplots (figsize=(7, 5), dpi=140)\n",
        "plt.title ('Histogram of the predicted labels (sentiment analysis)')\n",
        "#plt.hist (df ['messageSentiment.score'], bins, label=['label'] )\n",
        "df['messageSentiment.score'].hist(bins=bins, weights=np.ones_like(df[df.columns[0]]) * 100. / len(df))\n",
        "plt.ylabel('Percentage (%)')\n",
        "ax.set_xticks (x)\n",
        "ax.set_xticklabels (list(labels_ids.keys()))\n",
        "ax.grid(True)\n",
        "#ax.legend (loc='upper right')\n",
        "#plt.gca().invert_xaxis()\n",
        "#plt.gca().invert_yaxis()\n",
        "plt.show ()"
      ],
      "metadata": {
        "colab": {
          "base_uri": "https://localhost:8080/",
          "height": 635
        },
        "id": "fKxEXoxOBM7M",
        "outputId": "f8e0050b-fc84-44a3-a34e-553e18cd2615"
      },
      "execution_count": 41,
      "outputs": [
        {
          "output_type": "display_data",
          "data": {
            "text/plain": [
              "<Figure size 980x700 with 1 Axes>"
            ],
            "image/png": "[encoded data removed]"
          },
          "metadata": {
            "needs_background": "light"
          }
        }
      ]
    },
    {
      "cell_type": "markdown",
      "source": [
        "Bar plot of top actors"
      ],
      "metadata": {
        "id": "QgGoef2RKYBw"
      }
    },
    {
      "cell_type": "code",
      "source": [
        "plt.figure(figsize=(7,5),dpi=140)\n",
        "\n",
        "negative_sentiment = df [df['messageSentiment.score'] == 0]\n",
        "negative_sentiment_percent = negative_sentiment ['account.name'].value_counts()*100/len(negative_sentiment)\n",
        "negative_sentiment_percent[:20].plot(kind='bar')\n",
        "\n",
        "# Customize matplotlib\n",
        "hindi_font = FontProperties(fname = '/content/drive/MyDrive/CrowdTangle-NLP/Nirmala.ttf')\n",
        "\n",
        "plt.xticks(fontproperties=hindi_font)\n",
        "#plt.xticks(rotation = 60)\n",
        "\n",
        "plt.title('Top accounts - messages with negative sentiment')\n",
        "plt.ylabel('Percentage (%)')\n",
        "\n",
        "plt.show()"
      ],
      "metadata": {
        "colab": {
          "base_uri": "https://localhost:8080/",
          "height": 915
        },
        "id": "x-DPjVKJC2fD",
        "outputId": "77994856-d9f0-4ddd-e64d-794141919720"
      },
      "execution_count": 43,
      "outputs": [
        {
          "output_type": "display_data",
          "data": {
            "text/plain": [
              "<Figure size 980x700 with 1 Axes>"
            ],
            "image/png": "[encoded data removed]"
          },
          "metadata": {
            "needs_background": "light"
          }
        }
      ]
    }
  ],
  "metadata": {
    "accelerator": "GPU",
    "colab": {
      "collapsed_sections": [],
      "provenance": [],
      "toc_visible": true
    },
    "kernelspec": {
      "display_name": "Python 3",
      "name": "python3"
    },
    "language_info": {
      "name": "python"
    },
    "widgets": {
      "application/vnd.jupyter.widget-state+json": {
        "26e5c5f1f43e46539a9bdfaa3b5c94c1": {
          "model_module": "@jupyter-widgets/controls",
          "model_name": "HBoxModel",
          "model_module_version": "1.5.0",
          "state": {
            "_dom_classes": [],
            "_model_module": "@jupyter-widgets/controls",
            "_model_module_version": "1.5.0",
            "_model_name": "HBoxModel",
            "_view_count": null,
            "_view_module": "@jupyter-widgets/controls",
            "_view_module_version": "1.5.0",
            "_view_name": "HBoxView",
            "box_style": "",
            "children": [
              "IPY_MODEL_beb9461056ee451daaa26994e9c94500",
              "IPY_MODEL_db79f3d51c444fa0a9b865964d789f1a",
              "IPY_MODEL_15ce20175ff94c14a3e2b6cb001ed774"
            ],
            "layout": "IPY_MODEL_3207d977d27347fb91a209a6c037bfad"
          }
        },
        "beb9461056ee451daaa26994e9c94500": {
          "model_module": "@jupyter-widgets/controls",
          "model_name": "HTMLModel",
          "model_module_version": "1.5.0",
          "state": {
            "_dom_classes": [],
            "_model_module": "@jupyter-widgets/controls",
            "_model_module_version": "1.5.0",
            "_model_name": "HTMLModel",
            "_view_count": null,
            "_view_module": "@jupyter-widgets/controls",
            "_view_module_version": "1.5.0",
            "_view_name": "HTMLView",
            "description": "",
            "description_tooltip": null,
            "layout": "IPY_MODEL_9f468fd8b4a24ed5b1f6a886c4174b0d",
            "placeholder": "​",
            "style": "IPY_MODEL_6b9cc69a132e4c16a91d5850821ecb8f",
            "value": "Downloading: 100%"
          }
        },
        "db79f3d51c444fa0a9b865964d789f1a": {
          "model_module": "@jupyter-widgets/controls",
          "model_name": "FloatProgressModel",
          "model_module_version": "1.5.0",
          "state": {
            "_dom_classes": [],
            "_model_module": "@jupyter-widgets/controls",
            "_model_module_version": "1.5.0",
            "_model_name": "FloatProgressModel",
            "_view_count": null,
            "_view_module": "@jupyter-widgets/controls",
            "_view_module_version": "1.5.0",
            "_view_name": "ProgressView",
            "bar_style": "success",
            "description": "",
            "description_tooltip": null,
            "layout": "IPY_MODEL_00471e620d4a4634aceed128ccc761a6",
            "max": 841,
            "min": 0,
            "orientation": "horizontal",
            "style": "IPY_MODEL_b561ce470a934077a86b2e3921a821fb",
            "value": 841
          }
        },
        "15ce20175ff94c14a3e2b6cb001ed774": {
          "model_module": "@jupyter-widgets/controls",
          "model_name": "HTMLModel",
          "model_module_version": "1.5.0",
          "state": {
            "_dom_classes": [],
            "_model_module": "@jupyter-widgets/controls",
            "_model_module_version": "1.5.0",
            "_model_name": "HTMLModel",
            "_view_count": null,
            "_view_module": "@jupyter-widgets/controls",
            "_view_module_version": "1.5.0",
            "_view_name": "HTMLView",
            "description": "",
            "description_tooltip": null,
            "layout": "IPY_MODEL_00af2ec2ab114b4b8e041529e0e48c41",
            "placeholder": "​",
            "style": "IPY_MODEL_d93da1301e774e839603a850947fb2be",
            "value": " 841/841 [00:00&lt;00:00, 26.6kB/s]"
          }
        },
        "3207d977d27347fb91a209a6c037bfad": {
          "model_module": "@jupyter-widgets/base",
          "model_name": "LayoutModel",
          "model_module_version": "1.2.0",
          "state": {
            "_model_module": "@jupyter-widgets/base",
            "_model_module_version": "1.2.0",
            "_model_name": "LayoutModel",
            "_view_count": null,
            "_view_module": "@jupyter-widgets/base",
            "_view_module_version": "1.2.0",
            "_view_name": "LayoutView",
            "align_content": null,
            "align_items": null,
            "align_self": null,
            "border": null,
            "bottom": null,
            "display": null,
            "flex": null,
            "flex_flow": null,
            "grid_area": null,
            "grid_auto_columns": null,
            "grid_auto_flow": null,
            "grid_auto_rows": null,
            "grid_column": null,
            "grid_gap": null,
            "grid_row": null,
            "grid_template_areas": null,
            "grid_template_columns": null,
            "grid_template_rows": null,
            "height": null,
            "justify_content": null,
            "justify_items": null,
            "left": null,
            "margin": null,
            "max_height": null,
            "max_width": null,
            "min_height": null,
            "min_width": null,
            "object_fit": null,
            "object_position": null,
            "order": null,
            "overflow": null,
            "overflow_x": null,
            "overflow_y": null,
            "padding": null,
            "right": null,
            "top": null,
            "visibility": null,
            "width": null
          }
        },
        "9f468fd8b4a24ed5b1f6a886c4174b0d": {
          "model_module": "@jupyter-widgets/base",
          "model_name": "LayoutModel",
          "model_module_version": "1.2.0",
          "state": {
            "_model_module": "@jupyter-widgets/base",
            "_model_module_version": "1.2.0",
            "_model_name": "LayoutModel",
            "_view_count": null,
            "_view_module": "@jupyter-widgets/base",
            "_view_module_version": "1.2.0",
            "_view_name": "LayoutView",
            "align_content": null,
            "align_items": null,
            "align_self": null,
            "border": null,
            "bottom": null,
            "display": null,
            "flex": null,
            "flex_flow": null,
            "grid_area": null,
            "grid_auto_columns": null,
            "grid_auto_flow": null,
            "grid_auto_rows": null,
            "grid_column": null,
            "grid_gap": null,
            "grid_row": null,
            "grid_template_areas": null,
            "grid_template_columns": null,
            "grid_template_rows": null,
            "height": null,
            "justify_content": null,
            "justify_items": null,
            "left": null,
            "margin": null,
            "max_height": null,
            "max_width": null,
            "min_height": null,
            "min_width": null,
            "object_fit": null,
            "object_position": null,
            "order": null,
            "overflow": null,
            "overflow_x": null,
            "overflow_y": null,
            "padding": null,
            "right": null,
            "top": null,
            "visibility": null,
            "width": null
          }
        },
        "6b9cc69a132e4c16a91d5850821ecb8f": {
          "model_module": "@jupyter-widgets/controls",
          "model_name": "DescriptionStyleModel",
          "model_module_version": "1.5.0",
          "state": {
            "_model_module": "@jupyter-widgets/controls",
            "_model_module_version": "1.5.0",
            "_model_name": "DescriptionStyleModel",
            "_view_count": null,
            "_view_module": "@jupyter-widgets/base",
            "_view_module_version": "1.2.0",
            "_view_name": "StyleView",
            "description_width": ""
          }
        },
        "00471e620d4a4634aceed128ccc761a6": {
          "model_module": "@jupyter-widgets/base",
          "model_name": "LayoutModel",
          "model_module_version": "1.2.0",
          "state": {
            "_model_module": "@jupyter-widgets/base",
            "_model_module_version": "1.2.0",
            "_model_name": "LayoutModel",
            "_view_count": null,
            "_view_module": "@jupyter-widgets/base",
            "_view_module_version": "1.2.0",
            "_view_name": "LayoutView",
            "align_content": null,
            "align_items": null,
            "align_self": null,
            "border": null,
            "bottom": null,
            "display": null,
            "flex": null,
            "flex_flow": null,
            "grid_area": null,
            "grid_auto_columns": null,
            "grid_auto_flow": null,
            "grid_auto_rows": null,
            "grid_column": null,
            "grid_gap": null,
            "grid_row": null,
            "grid_template_areas": null,
            "grid_template_columns": null,
            "grid_template_rows": null,
            "height": null,
            "justify_content": null,
            "justify_items": null,
            "left": null,
            "margin": null,
            "max_height": null,
            "max_width": null,
            "min_height": null,
            "min_width": null,
            "object_fit": null,
            "object_position": null,
            "order": null,
            "overflow": null,
            "overflow_x": null,
            "overflow_y": null,
            "padding": null,
            "right": null,
            "top": null,
            "visibility": null,
            "width": null
          }
        },
        "b561ce470a934077a86b2e3921a821fb": {
          "model_module": "@jupyter-widgets/controls",
          "model_name": "ProgressStyleModel",
          "model_module_version": "1.5.0",
          "state": {
            "_model_module": "@jupyter-widgets/controls",
            "_model_module_version": "1.5.0",
            "_model_name": "ProgressStyleModel",
            "_view_count": null,
            "_view_module": "@jupyter-widgets/base",
            "_view_module_version": "1.2.0",
            "_view_name": "StyleView",
            "bar_color": null,
            "description_width": ""
          }
        },
        "00af2ec2ab114b4b8e041529e0e48c41": {
          "model_module": "@jupyter-widgets/base",
          "model_name": "LayoutModel",
          "model_module_version": "1.2.0",
          "state": {
            "_model_module": "@jupyter-widgets/base",
            "_model_module_version": "1.2.0",
            "_model_name": "LayoutModel",
            "_view_count": null,
            "_view_module": "@jupyter-widgets/base",
            "_view_module_version": "1.2.0",
            "_view_name": "LayoutView",
            "align_content": null,
            "align_items": null,
            "align_self": null,
            "border": null,
            "bottom": null,
            "display": null,
            "flex": null,
            "flex_flow": null,
            "grid_area": null,
            "grid_auto_columns": null,
            "grid_auto_flow": null,
            "grid_auto_rows": null,
            "grid_column": null,
            "grid_gap": null,
            "grid_row": null,
            "grid_template_areas": null,
            "grid_template_columns": null,
            "grid_template_rows": null,
            "height": null,
            "justify_content": null,
            "justify_items": null,
            "left": null,
            "margin": null,
            "max_height": null,
            "max_width": null,
            "min_height": null,
            "min_width": null,
            "object_fit": null,
            "object_position": null,
            "order": null,
            "overflow": null,
            "overflow_x": null,
            "overflow_y": null,
            "padding": null,
            "right": null,
            "top": null,
            "visibility": null,
            "width": null
          }
        },
        "d93da1301e774e839603a850947fb2be": {
          "model_module": "@jupyter-widgets/controls",
          "model_name": "DescriptionStyleModel",
          "model_module_version": "1.5.0",
          "state": {
            "_model_module": "@jupyter-widgets/controls",
            "_model_module_version": "1.5.0",
            "_model_name": "DescriptionStyleModel",
            "_view_count": null,
            "_view_module": "@jupyter-widgets/base",
            "_view_module_version": "1.2.0",
            "_view_name": "StyleView",
            "description_width": ""
          }
        },
        "1ce3b5d30c96496cac045c1144348b11": {
          "model_module": "@jupyter-widgets/controls",
          "model_name": "HBoxModel",
          "model_module_version": "1.5.0",
          "state": {
            "_dom_classes": [],
            "_model_module": "@jupyter-widgets/controls",
            "_model_module_version": "1.5.0",
            "_model_name": "HBoxModel",
            "_view_count": null,
            "_view_module": "@jupyter-widgets/controls",
            "_view_module_version": "1.5.0",
            "_view_name": "HBoxView",
            "box_style": "",
            "children": [
              "IPY_MODEL_e15e633cded94770a474ce1f2bf6fbcb",
              "IPY_MODEL_62c6740fe99f4dce964117c468a3d997",
              "IPY_MODEL_301ec8b5e6ed48ee85e7b2dd95b4ec4e"
            ],
            "layout": "IPY_MODEL_07e8e297d81b49fda99428fb65df4abf"
          }
        },
        "e15e633cded94770a474ce1f2bf6fbcb": {
          "model_module": "@jupyter-widgets/controls",
          "model_name": "HTMLModel",
          "model_module_version": "1.5.0",
          "state": {
            "_dom_classes": [],
            "_model_module": "@jupyter-widgets/controls",
            "_model_module_version": "1.5.0",
            "_model_name": "HTMLModel",
            "_view_count": null,
            "_view_module": "@jupyter-widgets/controls",
            "_view_module_version": "1.5.0",
            "_view_name": "HTMLView",
            "description": "",
            "description_tooltip": null,
            "layout": "IPY_MODEL_7fe47437117e4f7a99610c8c384fe8f2",
            "placeholder": "​",
            "style": "IPY_MODEL_3222360ff5ab47a290e5ffcbfd8efaaf",
            "value": "Downloading: 100%"
          }
        },
        "62c6740fe99f4dce964117c468a3d997": {
          "model_module": "@jupyter-widgets/controls",
          "model_name": "FloatProgressModel",
          "model_module_version": "1.5.0",
          "state": {
            "_dom_classes": [],
            "_model_module": "@jupyter-widgets/controls",
            "_model_module_version": "1.5.0",
            "_model_name": "FloatProgressModel",
            "_view_count": null,
            "_view_module": "@jupyter-widgets/controls",
            "_view_module_version": "1.5.0",
            "_view_name": "ProgressView",
            "bar_style": "success",
            "description": "",
            "description_tooltip": null,
            "layout": "IPY_MODEL_04fa520107a345328f6149b9e18c750f",
            "max": 5069051,
            "min": 0,
            "orientation": "horizontal",
            "style": "IPY_MODEL_b23889953cd4420faca3f1404b2de6e2",
            "value": 5069051
          }
        },
        "301ec8b5e6ed48ee85e7b2dd95b4ec4e": {
          "model_module": "@jupyter-widgets/controls",
          "model_name": "HTMLModel",
          "model_module_version": "1.5.0",
          "state": {
            "_dom_classes": [],
            "_model_module": "@jupyter-widgets/controls",
            "_model_module_version": "1.5.0",
            "_model_name": "HTMLModel",
            "_view_count": null,
            "_view_module": "@jupyter-widgets/controls",
            "_view_module_version": "1.5.0",
            "_view_name": "HTMLView",
            "description": "",
            "description_tooltip": null,
            "layout": "IPY_MODEL_74f6ac8f6c1d4653a4338a78a0ca588a",
            "placeholder": "​",
            "style": "IPY_MODEL_8cd5254f9c564030b333c7c228075062",
            "value": " 5.07M/5.07M [00:00&lt;00:00, 14.9MB/s]"
          }
        },
        "07e8e297d81b49fda99428fb65df4abf": {
          "model_module": "@jupyter-widgets/base",
          "model_name": "LayoutModel",
          "model_module_version": "1.2.0",
          "state": {
            "_model_module": "@jupyter-widgets/base",
            "_model_module_version": "1.2.0",
            "_model_name": "LayoutModel",
            "_view_count": null,
            "_view_module": "@jupyter-widgets/base",
            "_view_module_version": "1.2.0",
            "_view_name": "LayoutView",
            "align_content": null,
            "align_items": null,
            "align_self": null,
            "border": null,
            "bottom": null,
            "display": null,
            "flex": null,
            "flex_flow": null,
            "grid_area": null,
            "grid_auto_columns": null,
            "grid_auto_flow": null,
            "grid_auto_rows": null,
            "grid_column": null,
            "grid_gap": null,
            "grid_row": null,
            "grid_template_areas": null,
            "grid_template_columns": null,
            "grid_template_rows": null,
            "height": null,
            "justify_content": null,
            "justify_items": null,
            "left": null,
            "margin": null,
            "max_height": null,
            "max_width": null,
            "min_height": null,
            "min_width": null,
            "object_fit": null,
            "object_position": null,
            "order": null,
            "overflow": null,
            "overflow_x": null,
            "overflow_y": null,
            "padding": null,
            "right": null,
            "top": null,
            "visibility": null,
            "width": null
          }
        },
        "7fe47437117e4f7a99610c8c384fe8f2": {
          "model_module": "@jupyter-widgets/base",
          "model_name": "LayoutModel",
          "model_module_version": "1.2.0",
          "state": {
            "_model_module": "@jupyter-widgets/base",
            "_model_module_version": "1.2.0",
            "_model_name": "LayoutModel",
            "_view_count": null,
            "_view_module": "@jupyter-widgets/base",
            "_view_module_version": "1.2.0",
            "_view_name": "LayoutView",
            "align_content": null,
            "align_items": null,
            "align_self": null,
            "border": null,
            "bottom": null,
            "display": null,
            "flex": null,
            "flex_flow": null,
            "grid_area": null,
            "grid_auto_columns": null,
            "grid_auto_flow": null,
            "grid_auto_rows": null,
            "grid_column": null,
            "grid_gap": null,
            "grid_row": null,
            "grid_template_areas": null,
            "grid_template_columns": null,
            "grid_template_rows": null,
            "height": null,
            "justify_content": null,
            "justify_items": null,
            "left": null,
            "margin": null,
            "max_height": null,
            "max_width": null,
            "min_height": null,
            "min_width": null,
            "object_fit": null,
            "object_position": null,
            "order": null,
            "overflow": null,
            "overflow_x": null,
            "overflow_y": null,
            "padding": null,
            "right": null,
            "top": null,
            "visibility": null,
            "width": null
          }
        },
        "3222360ff5ab47a290e5ffcbfd8efaaf": {
          "model_module": "@jupyter-widgets/controls",
          "model_name": "DescriptionStyleModel",
          "model_module_version": "1.5.0",
          "state": {
            "_model_module": "@jupyter-widgets/controls",
            "_model_module_version": "1.5.0",
            "_model_name": "DescriptionStyleModel",
            "_view_count": null,
            "_view_module": "@jupyter-widgets/base",
            "_view_module_version": "1.2.0",
            "_view_name": "StyleView",
            "description_width": ""
          }
        },
        "04fa520107a345328f6149b9e18c750f": {
          "model_module": "@jupyter-widgets/base",
          "model_name": "LayoutModel",
          "model_module_version": "1.2.0",
          "state": {
            "_model_module": "@jupyter-widgets/base",
            "_model_module_version": "1.2.0",
            "_model_name": "LayoutModel",
            "_view_count": null,
            "_view_module": "@jupyter-widgets/base",
            "_view_module_version": "1.2.0",
            "_view_name": "LayoutView",
            "align_content": null,
            "align_items": null,
            "align_self": null,
            "border": null,
            "bottom": null,
            "display": null,
            "flex": null,
            "flex_flow": null,
            "grid_area": null,
            "grid_auto_columns": null,
            "grid_auto_flow": null,
            "grid_auto_rows": null,
            "grid_column": null,
            "grid_gap": null,
            "grid_row": null,
            "grid_template_areas": null,
            "grid_template_columns": null,
            "grid_template_rows": null,
            "height": null,
            "justify_content": null,
            "justify_items": null,
            "left": null,
            "margin": null,
            "max_height": null,
            "max_width": null,
            "min_height": null,
            "min_width": null,
            "object_fit": null,
            "object_position": null,
            "order": null,
            "overflow": null,
            "overflow_x": null,
            "overflow_y": null,
            "padding": null,
            "right": null,
            "top": null,
            "visibility": null,
            "width": null
          }
        },
        "b23889953cd4420faca3f1404b2de6e2": {
          "model_module": "@jupyter-widgets/controls",
          "model_name": "ProgressStyleModel",
          "model_module_version": "1.5.0",
          "state": {
            "_model_module": "@jupyter-widgets/controls",
            "_model_module_version": "1.5.0",
            "_model_name": "ProgressStyleModel",
            "_view_count": null,
            "_view_module": "@jupyter-widgets/base",
            "_view_module_version": "1.2.0",
            "_view_name": "StyleView",
            "bar_color": null,
            "description_width": ""
          }
        },
        "74f6ac8f6c1d4653a4338a78a0ca588a": {
          "model_module": "@jupyter-widgets/base",
          "model_name": "LayoutModel",
          "model_module_version": "1.2.0",
          "state": {
            "_model_module": "@jupyter-widgets/base",
            "_model_module_version": "1.2.0",
            "_model_name": "LayoutModel",
            "_view_count": null,
            "_view_module": "@jupyter-widgets/base",
            "_view_module_version": "1.2.0",
            "_view_name": "LayoutView",
            "align_content": null,
            "align_items": null,
            "align_self": null,
            "border": null,
            "bottom": null,
            "display": null,
            "flex": null,
            "flex_flow": null,
            "grid_area": null,
            "grid_auto_columns": null,
            "grid_auto_flow": null,
            "grid_auto_rows": null,
            "grid_column": null,
            "grid_gap": null,
            "grid_row": null,
            "grid_template_areas": null,
            "grid_template_columns": null,
            "grid_template_rows": null,
            "height": null,
            "justify_content": null,
            "justify_items": null,
            "left": null,
            "margin": null,
            "max_height": null,
            "max_width": null,
            "min_height": null,
            "min_width": null,
            "object_fit": null,
            "object_position": null,
            "order": null,
            "overflow": null,
            "overflow_x": null,
            "overflow_y": null,
            "padding": null,
            "right": null,
            "top": null,
            "visibility": null,
            "width": null
          }
        },
        "8cd5254f9c564030b333c7c228075062": {
          "model_module": "@jupyter-widgets/controls",
          "model_name": "DescriptionStyleModel",
          "model_module_version": "1.5.0",
          "state": {
            "_model_module": "@jupyter-widgets/controls",
            "_model_module_version": "1.5.0",
            "_model_name": "DescriptionStyleModel",
            "_view_count": null,
            "_view_module": "@jupyter-widgets/base",
            "_view_module_version": "1.2.0",
            "_view_name": "StyleView",
            "description_width": ""
          }
        },
        "23bab6e273f7449aa30bd97d61cfc3b7": {
          "model_module": "@jupyter-widgets/controls",
          "model_name": "HBoxModel",
          "model_module_version": "1.5.0",
          "state": {
            "_dom_classes": [],
            "_model_module": "@jupyter-widgets/controls",
            "_model_module_version": "1.5.0",
            "_model_name": "HBoxModel",
            "_view_count": null,
            "_view_module": "@jupyter-widgets/controls",
            "_view_module_version": "1.5.0",
            "_view_name": "HBoxView",
            "box_style": "",
            "children": [
              "IPY_MODEL_eb0aba2c0f614b878b30f30a660fc402",
              "IPY_MODEL_58abfbf5a46949cfa7e07b5bd49459e3",
              "IPY_MODEL_97186a1f7d4346d7ab6654a2e12ecb0b"
            ],
            "layout": "IPY_MODEL_d197cdd184b349d7916c4e700e024dc8"
          }
        },
        "eb0aba2c0f614b878b30f30a660fc402": {
          "model_module": "@jupyter-widgets/controls",
          "model_name": "HTMLModel",
          "model_module_version": "1.5.0",
          "state": {
            "_dom_classes": [],
            "_model_module": "@jupyter-widgets/controls",
            "_model_module_version": "1.5.0",
            "_model_name": "HTMLModel",
            "_view_count": null,
            "_view_module": "@jupyter-widgets/controls",
            "_view_module_version": "1.5.0",
            "_view_name": "HTMLView",
            "description": "",
            "description_tooltip": null,
            "layout": "IPY_MODEL_4c2fb22b6e9d499d8784c7c3db957305",
            "placeholder": "​",
            "style": "IPY_MODEL_2ebaae29c0cf444297a987277eae520b",
            "value": "Downloading: 100%"
          }
        },
        "58abfbf5a46949cfa7e07b5bd49459e3": {
          "model_module": "@jupyter-widgets/controls",
          "model_name": "FloatProgressModel",
          "model_module_version": "1.5.0",
          "state": {
            "_dom_classes": [],
            "_model_module": "@jupyter-widgets/controls",
            "_model_module_version": "1.5.0",
            "_model_name": "FloatProgressModel",
            "_view_count": null,
            "_view_module": "@jupyter-widgets/controls",
            "_view_module_version": "1.5.0",
            "_view_name": "ProgressView",
            "bar_style": "success",
            "description": "",
            "description_tooltip": null,
            "layout": "IPY_MODEL_45e2fe555e4943389d795d7491bbe496",
            "max": 150,
            "min": 0,
            "orientation": "horizontal",
            "style": "IPY_MODEL_de7671ee153843f1ac761a0e5a0b67b5",
            "value": 150
          }
        },
        "97186a1f7d4346d7ab6654a2e12ecb0b": {
          "model_module": "@jupyter-widgets/controls",
          "model_name": "HTMLModel",
          "model_module_version": "1.5.0",
          "state": {
            "_dom_classes": [],
            "_model_module": "@jupyter-widgets/controls",
            "_model_module_version": "1.5.0",
            "_model_name": "HTMLModel",
            "_view_count": null,
            "_view_module": "@jupyter-widgets/controls",
            "_view_module_version": "1.5.0",
            "_view_name": "HTMLView",
            "description": "",
            "description_tooltip": null,
            "layout": "IPY_MODEL_e4720b4e0c9a4a0796c5c81c239273fb",
            "placeholder": "​",
            "style": "IPY_MODEL_c070a8ecbb3846dfb290298975eae5bc",
            "value": " 150/150 [00:00&lt;00:00, 3.41kB/s]"
          }
        },
        "d197cdd184b349d7916c4e700e024dc8": {
          "model_module": "@jupyter-widgets/base",
          "model_name": "LayoutModel",
          "model_module_version": "1.2.0",
          "state": {
            "_model_module": "@jupyter-widgets/base",
            "_model_module_version": "1.2.0",
            "_model_name": "LayoutModel",
            "_view_count": null,
            "_view_module": "@jupyter-widgets/base",
            "_view_module_version": "1.2.0",
            "_view_name": "LayoutView",
            "align_content": null,
            "align_items": null,
            "align_self": null,
            "border": null,
            "bottom": null,
            "display": null,
            "flex": null,
            "flex_flow": null,
            "grid_area": null,
            "grid_auto_columns": null,
            "grid_auto_flow": null,
            "grid_auto_rows": null,
            "grid_column": null,
            "grid_gap": null,
            "grid_row": null,
            "grid_template_areas": null,
            "grid_template_columns": null,
            "grid_template_rows": null,
            "height": null,
            "justify_content": null,
            "justify_items": null,
            "left": null,
            "margin": null,
            "max_height": null,
            "max_width": null,
            "min_height": null,
            "min_width": null,
            "object_fit": null,
            "object_position": null,
            "order": null,
            "overflow": null,
            "overflow_x": null,
            "overflow_y": null,
            "padding": null,
            "right": null,
            "top": null,
            "visibility": null,
            "width": null
          }
        },
        "4c2fb22b6e9d499d8784c7c3db957305": {
          "model_module": "@jupyter-widgets/base",
          "model_name": "LayoutModel",
          "model_module_version": "1.2.0",
          "state": {
            "_model_module": "@jupyter-widgets/base",
            "_model_module_version": "1.2.0",
            "_model_name": "LayoutModel",
            "_view_count": null,
            "_view_module": "@jupyter-widgets/base",
            "_view_module_version": "1.2.0",
            "_view_name": "LayoutView",
            "align_content": null,
            "align_items": null,
            "align_self": null,
            "border": null,
            "bottom": null,
            "display": null,
            "flex": null,
            "flex_flow": null,
            "grid_area": null,
            "grid_auto_columns": null,
            "grid_auto_flow": null,
            "grid_auto_rows": null,
            "grid_column": null,
            "grid_gap": null,
            "grid_row": null,
            "grid_template_areas": null,
            "grid_template_columns": null,
            "grid_template_rows": null,
            "height": null,
            "justify_content": null,
            "justify_items": null,
            "left": null,
            "margin": null,
            "max_height": null,
            "max_width": null,
            "min_height": null,
            "min_width": null,
            "object_fit": null,
            "object_position": null,
            "order": null,
            "overflow": null,
            "overflow_x": null,
            "overflow_y": null,
            "padding": null,
            "right": null,
            "top": null,
            "visibility": null,
            "width": null
          }
        },
        "2ebaae29c0cf444297a987277eae520b": {
          "model_module": "@jupyter-widgets/controls",
          "model_name": "DescriptionStyleModel",
          "model_module_version": "1.5.0",
          "state": {
            "_model_module": "@jupyter-widgets/controls",
            "_model_module_version": "1.5.0",
            "_model_name": "DescriptionStyleModel",
            "_view_count": null,
            "_view_module": "@jupyter-widgets/base",
            "_view_module_version": "1.2.0",
            "_view_name": "StyleView",
            "description_width": ""
          }
        },
        "45e2fe555e4943389d795d7491bbe496": {
          "model_module": "@jupyter-widgets/base",
          "model_name": "LayoutModel",
          "model_module_version": "1.2.0",
          "state": {
            "_model_module": "@jupyter-widgets/base",
            "_model_module_version": "1.2.0",
            "_model_name": "LayoutModel",
            "_view_count": null,
            "_view_module": "@jupyter-widgets/base",
            "_view_module_version": "1.2.0",
            "_view_name": "LayoutView",
            "align_content": null,
            "align_items": null,
            "align_self": null,
            "border": null,
            "bottom": null,
            "display": null,
            "flex": null,
            "flex_flow": null,
            "grid_area": null,
            "grid_auto_columns": null,
            "grid_auto_flow": null,
            "grid_auto_rows": null,
            "grid_column": null,
            "grid_gap": null,
            "grid_row": null,
            "grid_template_areas": null,
            "grid_template_columns": null,
            "grid_template_rows": null,
            "height": null,
            "justify_content": null,
            "justify_items": null,
            "left": null,
            "margin": null,
            "max_height": null,
            "max_width": null,
            "min_height": null,
            "min_width": null,
            "object_fit": null,
            "object_position": null,
            "order": null,
            "overflow": null,
            "overflow_x": null,
            "overflow_y": null,
            "padding": null,
            "right": null,
            "top": null,
            "visibility": null,
            "width": null
          }
        },
        "de7671ee153843f1ac761a0e5a0b67b5": {
          "model_module": "@jupyter-widgets/controls",
          "model_name": "ProgressStyleModel",
          "model_module_version": "1.5.0",
          "state": {
            "_model_module": "@jupyter-widgets/controls",
            "_model_module_version": "1.5.0",
            "_model_name": "ProgressStyleModel",
            "_view_count": null,
            "_view_module": "@jupyter-widgets/base",
            "_view_module_version": "1.2.0",
            "_view_name": "StyleView",
            "bar_color": null,
            "description_width": ""
          }
        },
        "e4720b4e0c9a4a0796c5c81c239273fb": {
          "model_module": "@jupyter-widgets/base",
          "model_name": "LayoutModel",
          "model_module_version": "1.2.0",
          "state": {
            "_model_module": "@jupyter-widgets/base",
            "_model_module_version": "1.2.0",
            "_model_name": "LayoutModel",
            "_view_count": null,
            "_view_module": "@jupyter-widgets/base",
            "_view_module_version": "1.2.0",
            "_view_name": "LayoutView",
            "align_content": null,
            "align_items": null,
            "align_self": null,
            "border": null,
            "bottom": null,
            "display": null,
            "flex": null,
            "flex_flow": null,
            "grid_area": null,
            "grid_auto_columns": null,
            "grid_auto_flow": null,
            "grid_auto_rows": null,
            "grid_column": null,
            "grid_gap": null,
            "grid_row": null,
            "grid_template_areas": null,
            "grid_template_columns": null,
            "grid_template_rows": null,
            "height": null,
            "justify_content": null,
            "justify_items": null,
            "left": null,
            "margin": null,
            "max_height": null,
            "max_width": null,
            "min_height": null,
            "min_width": null,
            "object_fit": null,
            "object_position": null,
            "order": null,
            "overflow": null,
            "overflow_x": null,
            "overflow_y": null,
            "padding": null,
            "right": null,
            "top": null,
            "visibility": null,
            "width": null
          }
        },
        "c070a8ecbb3846dfb290298975eae5bc": {
          "model_module": "@jupyter-widgets/controls",
          "model_name": "DescriptionStyleModel",
          "model_module_version": "1.5.0",
          "state": {
            "_model_module": "@jupyter-widgets/controls",
            "_model_module_version": "1.5.0",
            "_model_name": "DescriptionStyleModel",
            "_view_count": null,
            "_view_module": "@jupyter-widgets/base",
            "_view_module_version": "1.2.0",
            "_view_name": "StyleView",
            "description_width": ""
          }
        },
        "7bd0f8998588431c838fb60186279104": {
          "model_module": "@jupyter-widgets/controls",
          "model_name": "HBoxModel",
          "model_module_version": "1.5.0",
          "state": {
            "_dom_classes": [],
            "_model_module": "@jupyter-widgets/controls",
            "_model_module_version": "1.5.0",
            "_model_name": "HBoxModel",
            "_view_count": null,
            "_view_module": "@jupyter-widgets/controls",
            "_view_module_version": "1.5.0",
            "_view_name": "HBoxView",
            "box_style": "",
            "children": [
              "IPY_MODEL_5b7078e5a04a44bd8036626732651ad4",
              "IPY_MODEL_e4e2cf0703904f6083db8ea8f5e5da89",
              "IPY_MODEL_74bae7fa54824d0d8cdeffafa2fa7af0"
            ],
            "layout": "IPY_MODEL_ba8d07a2b2a5464888361964d9ed6512"
          }
        },
        "5b7078e5a04a44bd8036626732651ad4": {
          "model_module": "@jupyter-widgets/controls",
          "model_name": "HTMLModel",
          "model_module_version": "1.5.0",
          "state": {
            "_dom_classes": [],
            "_model_module": "@jupyter-widgets/controls",
            "_model_module_version": "1.5.0",
            "_model_name": "HTMLModel",
            "_view_count": null,
            "_view_module": "@jupyter-widgets/controls",
            "_view_module_version": "1.5.0",
            "_view_name": "HTMLView",
            "description": "",
            "description_tooltip": null,
            "layout": "IPY_MODEL_5b3e8dd42a6749c881e2541cae326c91",
            "placeholder": "​",
            "style": "IPY_MODEL_db48a69a7401442780fea4a5fd6867b3",
            "value": "Downloading: 100%"
          }
        },
        "e4e2cf0703904f6083db8ea8f5e5da89": {
          "model_module": "@jupyter-widgets/controls",
          "model_name": "FloatProgressModel",
          "model_module_version": "1.5.0",
          "state": {
            "_dom_classes": [],
            "_model_module": "@jupyter-widgets/controls",
            "_model_module_version": "1.5.0",
            "_model_name": "FloatProgressModel",
            "_view_count": null,
            "_view_module": "@jupyter-widgets/controls",
            "_view_module_version": "1.5.0",
            "_view_name": "ProgressView",
            "bar_style": "success",
            "description": "",
            "description_tooltip": null,
            "layout": "IPY_MODEL_ffe7462112154c7b9cb24808e8190bcc",
            "max": 1112271561,
            "min": 0,
            "orientation": "horizontal",
            "style": "IPY_MODEL_8914399961b84a0ab2e7b3ba58e4341a",
            "value": 1112271561
          }
        },
        "74bae7fa54824d0d8cdeffafa2fa7af0": {
          "model_module": "@jupyter-widgets/controls",
          "model_name": "HTMLModel",
          "model_module_version": "1.5.0",
          "state": {
            "_dom_classes": [],
            "_model_module": "@jupyter-widgets/controls",
            "_model_module_version": "1.5.0",
            "_model_name": "HTMLModel",
            "_view_count": null,
            "_view_module": "@jupyter-widgets/controls",
            "_view_module_version": "1.5.0",
            "_view_name": "HTMLView",
            "description": "",
            "description_tooltip": null,
            "layout": "IPY_MODEL_a1a2092bb9e649e4b597f6cedb393779",
            "placeholder": "​",
            "style": "IPY_MODEL_05750cf040c44ade970e0d205b7b2c5b",
            "value": " 1.11G/1.11G [00:31&lt;00:00, 61.8MB/s]"
          }
        },
        "ba8d07a2b2a5464888361964d9ed6512": {
          "model_module": "@jupyter-widgets/base",
          "model_name": "LayoutModel",
          "model_module_version": "1.2.0",
          "state": {
            "_model_module": "@jupyter-widgets/base",
            "_model_module_version": "1.2.0",
            "_model_name": "LayoutModel",
            "_view_count": null,
            "_view_module": "@jupyter-widgets/base",
            "_view_module_version": "1.2.0",
            "_view_name": "LayoutView",
            "align_content": null,
            "align_items": null,
            "align_self": null,
            "border": null,
            "bottom": null,
            "display": null,
            "flex": null,
            "flex_flow": null,
            "grid_area": null,
            "grid_auto_columns": null,
            "grid_auto_flow": null,
            "grid_auto_rows": null,
            "grid_column": null,
            "grid_gap": null,
            "grid_row": null,
            "grid_template_areas": null,
            "grid_template_columns": null,
            "grid_template_rows": null,
            "height": null,
            "justify_content": null,
            "justify_items": null,
            "left": null,
            "margin": null,
            "max_height": null,
            "max_width": null,
            "min_height": null,
            "min_width": null,
            "object_fit": null,
            "object_position": null,
            "order": null,
            "overflow": null,
            "overflow_x": null,
            "overflow_y": null,
            "padding": null,
            "right": null,
            "top": null,
            "visibility": null,
            "width": null
          }
        },
        "5b3e8dd42a6749c881e2541cae326c91": {
          "model_module": "@jupyter-widgets/base",
          "model_name": "LayoutModel",
          "model_module_version": "1.2.0",
          "state": {
            "_model_module": "@jupyter-widgets/base",
            "_model_module_version": "1.2.0",
            "_model_name": "LayoutModel",
            "_view_count": null,
            "_view_module": "@jupyter-widgets/base",
            "_view_module_version": "1.2.0",
            "_view_name": "LayoutView",
            "align_content": null,
            "align_items": null,
            "align_self": null,
            "border": null,
            "bottom": null,
            "display": null,
            "flex": null,
            "flex_flow": null,
            "grid_area": null,
            "grid_auto_columns": null,
            "grid_auto_flow": null,
            "grid_auto_rows": null,
            "grid_column": null,
            "grid_gap": null,
            "grid_row": null,
            "grid_template_areas": null,
            "grid_template_columns": null,
            "grid_template_rows": null,
            "height": null,
            "justify_content": null,
            "justify_items": null,
            "left": null,
            "margin": null,
            "max_height": null,
            "max_width": null,
            "min_height": null,
            "min_width": null,
            "object_fit": null,
            "object_position": null,
            "order": null,
            "overflow": null,
            "overflow_x": null,
            "overflow_y": null,
            "padding": null,
            "right": null,
            "top": null,
            "visibility": null,
            "width": null
          }
        },
        "db48a69a7401442780fea4a5fd6867b3": {
          "model_module": "@jupyter-widgets/controls",
          "model_name": "DescriptionStyleModel",
          "model_module_version": "1.5.0",
          "state": {
            "_model_module": "@jupyter-widgets/controls",
            "_model_module_version": "1.5.0",
            "_model_name": "DescriptionStyleModel",
            "_view_count": null,
            "_view_module": "@jupyter-widgets/base",
            "_view_module_version": "1.2.0",
            "_view_name": "StyleView",
            "description_width": ""
          }
        },
        "ffe7462112154c7b9cb24808e8190bcc": {
          "model_module": "@jupyter-widgets/base",
          "model_name": "LayoutModel",
          "model_module_version": "1.2.0",
          "state": {
            "_model_module": "@jupyter-widgets/base",
            "_model_module_version": "1.2.0",
            "_model_name": "LayoutModel",
            "_view_count": null,
            "_view_module": "@jupyter-widgets/base",
            "_view_module_version": "1.2.0",
            "_view_name": "LayoutView",
            "align_content": null,
            "align_items": null,
            "align_self": null,
            "border": null,
            "bottom": null,
            "display": null,
            "flex": null,
            "flex_flow": null,
            "grid_area": null,
            "grid_auto_columns": null,
            "grid_auto_flow": null,
            "grid_auto_rows": null,
            "grid_column": null,
            "grid_gap": null,
            "grid_row": null,
            "grid_template_areas": null,
            "grid_template_columns": null,
            "grid_template_rows": null,
            "height": null,
            "justify_content": null,
            "justify_items": null,
            "left": null,
            "margin": null,
            "max_height": null,
            "max_width": null,
            "min_height": null,
            "min_width": null,
            "object_fit": null,
            "object_position": null,
            "order": null,
            "overflow": null,
            "overflow_x": null,
            "overflow_y": null,
            "padding": null,
            "right": null,
            "top": null,
            "visibility": null,
            "width": null
          }
        },
        "8914399961b84a0ab2e7b3ba58e4341a": {
          "model_module": "@jupyter-widgets/controls",
          "model_name": "ProgressStyleModel",
          "model_module_version": "1.5.0",
          "state": {
            "_model_module": "@jupyter-widgets/controls",
            "_model_module_version": "1.5.0",
            "_model_name": "ProgressStyleModel",
            "_view_count": null,
            "_view_module": "@jupyter-widgets/base",
            "_view_module_version": "1.2.0",
            "_view_name": "StyleView",
            "bar_color": null,
            "description_width": ""
          }
        },
        "a1a2092bb9e649e4b597f6cedb393779": {
          "model_module": "@jupyter-widgets/base",
          "model_name": "LayoutModel",
          "model_module_version": "1.2.0",
          "state": {
            "_model_module": "@jupyter-widgets/base",
            "_model_module_version": "1.2.0",
            "_model_name": "LayoutModel",
            "_view_count": null,
            "_view_module": "@jupyter-widgets/base",
            "_view_module_version": "1.2.0",
            "_view_name": "LayoutView",
            "align_content": null,
            "align_items": null,
            "align_self": null,
            "border": null,
            "bottom": null,
            "display": null,
            "flex": null,
            "flex_flow": null,
            "grid_area": null,
            "grid_auto_columns": null,
            "grid_auto_flow": null,
            "grid_auto_rows": null,
            "grid_column": null,
            "grid_gap": null,
            "grid_row": null,
            "grid_template_areas": null,
            "grid_template_columns": null,
            "grid_template_rows": null,
            "height": null,
            "justify_content": null,
            "justify_items": null,
            "left": null,
            "margin": null,
            "max_height": null,
            "max_width": null,
            "min_height": null,
            "min_width": null,
            "object_fit": null,
            "object_position": null,
            "order": null,
            "overflow": null,
            "overflow_x": null,
            "overflow_y": null,
            "padding": null,
            "right": null,
            "top": null,
            "visibility": null,
            "width": null
          }
        },
        "05750cf040c44ade970e0d205b7b2c5b": {
          "model_module": "@jupyter-widgets/controls",
          "model_name": "DescriptionStyleModel",
          "model_module_version": "1.5.0",
          "state": {
            "_model_module": "@jupyter-widgets/controls",
            "_model_module_version": "1.5.0",
            "_model_name": "DescriptionStyleModel",
            "_view_count": null,
            "_view_module": "@jupyter-widgets/base",
            "_view_module_version": "1.2.0",
            "_view_name": "StyleView",
            "description_width": ""
          }
        }
      }
    }
  },
  "nbformat": 4,
  "nbformat_minor": 0
}