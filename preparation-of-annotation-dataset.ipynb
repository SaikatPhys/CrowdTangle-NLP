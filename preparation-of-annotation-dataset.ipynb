{
  "cells": [
    {
      "cell_type": "markdown",
      "source": [
        "# Pre-processing of the `Facebook` dataset for human annotation\n"
      ],
      "metadata": {
        "id": "vdh6covbp1Gr"
      }
    },
    {
      "cell_type": "markdown",
      "metadata": {
        "id": "6rk1dAvSLOtS"
      },
      "source": [
        "## Installs and imports"
      ]
    },
    {
      "cell_type": "code",
      "execution_count": 1,
      "metadata": {
        "id": "Y5f1fFbETSbM"
      },
      "outputs": [],
      "source": [
        "from matplotlib import pyplot as plt\n",
        "import numpy as np\n",
        "import pandas as pd"
      ]
    },
    {
      "cell_type": "markdown",
      "metadata": {
        "id": "XWqZ7LGMFeHV"
      },
      "source": [
        "## Load the `Facebook` dataset\n"
      ]
    },
    {
      "cell_type": "markdown",
      "source": [
        "Mount Google Drive"
      ],
      "metadata": {
        "id": "Dy0-jWfJ8__7"
      }
    },
    {
      "cell_type": "code",
      "execution_count": 2,
      "metadata": {
        "id": "dZ-s12zoL_1Q",
        "colab": {
          "base_uri": "https://localhost:8080/"
        },
        "outputId": "b13379af-fed5-4592-8157-eac8834a73ce"
      },
      "outputs": [
        {
          "output_type": "stream",
          "name": "stdout",
          "text": [
            "Mounted at /content/drive\n"
          ]
        }
      ],
      "source": [
        "from google.colab import drive\n",
        "drive.mount('/content/drive')"
      ]
    },
    {
      "cell_type": "markdown",
      "source": [
        "Load the CSV"
      ],
      "metadata": {
        "id": "_QPjdw2Pu5Jj"
      }
    },
    {
      "cell_type": "code",
      "source": [
        "df = pd.read_csv ('/content/drive/MyDrive/CrowdTangle-NLP/FB_dataset.csv')"
      ],
      "metadata": {
        "id": "x-ykm1bLqhRO"
      },
      "execution_count": 3,
      "outputs": []
    },
    {
      "cell_type": "markdown",
      "source": [
        "Check the shape of the pandas dataframe"
      ],
      "metadata": {
        "id": "X8LwJiQou7YQ"
      }
    },
    {
      "cell_type": "code",
      "source": [
        "df.shape"
      ],
      "metadata": {
        "colab": {
          "base_uri": "https://localhost:8080/"
        },
        "id": "uQbWJhqPqmQP",
        "outputId": "f40a93f4-006d-4480-b16c-1e2f89cec71f"
      },
      "execution_count": 4,
      "outputs": [
        {
          "output_type": "execute_result",
          "data": {
            "text/plain": [
              "(375922, 3)"
            ]
          },
          "metadata": {},
          "execution_count": 4
        }
      ]
    },
    {
      "cell_type": "markdown",
      "source": [
        "Check the column names of the dataframe"
      ],
      "metadata": {
        "id": "-odkuWzdu085"
      }
    },
    {
      "cell_type": "code",
      "source": [
        "df.columns"
      ],
      "metadata": {
        "colab": {
          "base_uri": "https://localhost:8080/"
        },
        "id": "xkdDMZqKqvK7",
        "outputId": "df5ee02f-8593-480a-f9f4-399cf48d8ef7"
      },
      "execution_count": 5,
      "outputs": [
        {
          "output_type": "execute_result",
          "data": {
            "text/plain": [
              "Index(['message', 'messageSentiment.score', 'messageHate.score'], dtype='object')"
            ]
          },
          "metadata": {},
          "execution_count": 5
        }
      ]
    },
    {
      "cell_type": "markdown",
      "source": [
        "Declare labels"
      ],
      "metadata": {
        "id": "wc18m-6fuyVV"
      }
    },
    {
      "cell_type": "code",
      "source": [
        "labels_ids_hate = {'non-hateful': 0, 'hateful': 1}\n",
        "n_labels = 2"
      ],
      "metadata": {
        "id": "oW4WC7QYirZm"
      },
      "execution_count": 6,
      "outputs": []
    },
    {
      "cell_type": "markdown",
      "source": [
        "## Statistics of the results"
      ],
      "metadata": {
        "id": "6_TDEoVaJRj6"
      }
    },
    {
      "cell_type": "markdown",
      "source": [
        "Overall numbers"
      ],
      "metadata": {
        "id": "dB9FAv3zDYY8"
      }
    },
    {
      "cell_type": "code",
      "source": [
        "print (\"Total number of non-hateful content within the dataset\", len(df [df['messageHate.score'] == 0]))\n",
        "print (\"Total number of hateful content within the dataset\", len(df [df['messageHate.score'] == 1]))"
      ],
      "metadata": {
        "colab": {
          "base_uri": "https://localhost:8080/"
        },
        "id": "BcFPrXzlCt6N",
        "outputId": "0b08a3ae-839a-4e7c-f28b-c6fdb66f22e7"
      },
      "execution_count": 7,
      "outputs": [
        {
          "output_type": "stream",
          "name": "stdout",
          "text": [
            "Total number of non-hateful content within the dataset 331892\n",
            "Total number of hateful content within the dataset 44030\n"
          ]
        }
      ]
    },
    {
      "cell_type": "markdown",
      "source": [
        "Histograms of the predicted scores"
      ],
      "metadata": {
        "id": "gUXlf-HfBKOO"
      }
    },
    {
      "cell_type": "code",
      "source": [
        "x = np.arange(n_labels)\n",
        "bins = np.linspace(0, 1, 10)\n",
        "\n",
        "fig, ax = plt.subplots (figsize=(5, 3), dpi=140)\n",
        "plt.title ('Histogram of the predicted labels')\n",
        "plt.hist (df ['messageHate.score'], bins, label=['label'] )\n",
        "ax.set_ylabel ('Count')\n",
        "ax.set_xticks (x)\n",
        "ax.set_xticklabels (list(labels_ids_hate.keys()))\n",
        "ax.legend (loc='upper right')\n",
        "plt.show ()"
      ],
      "metadata": {
        "colab": {
          "base_uri": "https://localhost:8080/",
          "height": 424
        },
        "id": "fKxEXoxOBM7M",
        "outputId": "a20bbd7f-a24d-4904-cf13-18ba064c56b2"
      },
      "execution_count": 8,
      "outputs": [
        {
          "output_type": "display_data",
          "data": {
            "text/plain": [
              "<Figure size 700x420 with 1 Axes>"
            ],
            "image/png": "[encoded data removed]"
          },
          "metadata": {
            "needs_background": "light"
          }
        }
      ]
    },
    {
      "cell_type": "markdown",
      "source": [
        "## Prepare the annotation dataset - randomly select the dataset"
      ],
      "metadata": {
        "id": "rNPkTVm1ATyo"
      }
    },
    {
      "cell_type": "markdown",
      "source": [
        "Randomly select N entries from non-hate category\n",
        "\n",
        "\n",
        "\n"
      ],
      "metadata": {
        "id": "QBDQzrY5BiEH"
      }
    },
    {
      "cell_type": "code",
      "source": [
        "df_nonhate = df [df['messageHate.score'] == 0]\n",
        "df_nonhate = df_nonhate.sample(n = 384) # randomly select N entries"
      ],
      "metadata": {
        "id": "68u4by-jAaHQ"
      },
      "execution_count": 9,
      "outputs": []
    },
    {
      "cell_type": "markdown",
      "source": [
        "Randomly select N entries from hate category"
      ],
      "metadata": {
        "id": "FOh8V6SXjcc_"
      }
    },
    {
      "cell_type": "code",
      "source": [
        "df_hate = df [df['messageHate.score'] == 1]\n",
        "df_hate = df_hate.sample(n = 381) # randomly select N entries"
      ],
      "metadata": {
        "id": "ueTdjVbHjYJW"
      },
      "execution_count": 10,
      "outputs": []
    },
    {
      "cell_type": "markdown",
      "source": [
        "Append sampled non-hate dataset with samples hate dataset"
      ],
      "metadata": {
        "id": "_EQ_fMPeCYD8"
      }
    },
    {
      "cell_type": "code",
      "source": [
        "df_anot = df_hate.append (df_nonhate)"
      ],
      "metadata": {
        "id": "Ji-sw2LuCHEz"
      },
      "execution_count": 11,
      "outputs": []
    },
    {
      "cell_type": "markdown",
      "source": [
        "Total size of the dataset"
      ],
      "metadata": {
        "id": "mSW_zklnEcAi"
      }
    },
    {
      "cell_type": "code",
      "source": [
        "print (len(df_anot))"
      ],
      "metadata": {
        "colab": {
          "base_uri": "https://localhost:8080/"
        },
        "id": "5Sfvt9BaCfUr",
        "outputId": "a4078130-84db-4cfc-8a33-d20209e2c055"
      },
      "execution_count": 12,
      "outputs": [
        {
          "output_type": "stream",
          "name": "stdout",
          "text": [
            "765\n"
          ]
        }
      ]
    },
    {
      "cell_type": "markdown",
      "source": [
        "Shuffle the dataframe and reset index"
      ],
      "metadata": {
        "id": "3GBwVEAaC7y9"
      }
    },
    {
      "cell_type": "code",
      "source": [
        "df_anot = df_anot.sample(frac=1).reset_index(drop=True)"
      ],
      "metadata": {
        "id": "QH1iM2FnC26t"
      },
      "execution_count": 13,
      "outputs": []
    },
    {
      "cell_type": "markdown",
      "source": [
        "Print the first 40 entries"
      ],
      "metadata": {
        "id": "T6iPMXhoFGwR"
      }
    },
    {
      "cell_type": "code",
      "source": [
        "df_anot.head(40)"
      ],
      "metadata": {
        "colab": {
          "base_uri": "https://localhost:8080/",
          "height": 1000
        },
        "id": "f2uYXtRHDBor",
        "outputId": "4b9ecaad-5124-4fa3-f470-5bb49e9f44cb"
      },
      "execution_count": 14,
      "outputs": [
        {
          "output_type": "execute_result",
          "data": {
            "text/plain": [
              "                                              message  messageSentiment.score  \\\n",
              "0                   ये मुगलों का आभार भी जता चुकी है!                       2   \n",
              "1   सवाल पूछता है ब्रह्मर्षि किस 🕌मस्जिद में हवन 🔥...                       1   \n",
              "2   कुरान की 26 आयतों को हटाने के लिए वसीम रिज़वी न...                       1   \n",
              "3   जब तक अदालत दोषी करार ना दे तब तक वाड्रा को अप...                       0   \n",
              "4             यूपी - 2016 की परेड यूपी - 2022 की परेड                       1   \n",
              "5   उल्लू को सूर्य से परेशानी हैं, और उल्लू के पठ्...                       2   \n",
              "6   एक छोटी सी मुहिम से जुड़ते चले अगली बार पछताना...                       1   \n",
              "7   प्रशांत किशोर ने लिख दिया था ऐसा,PM मोदी के ऑफ...                       1   \n",
              "8   370 हटने के बाद कश्मीर में अब जो शांति है ,शान...                       0   \n",
              "9   विक्की-कैटरीना कैफ के Wedding Venue का हुआ खुल...                       1   \n",
              "10  #कड़ी_कार्यवाही अनंतनाग में 3 आतंकवादी रवाना 72...                       1   \n",
              "11                अब एक-एक जिहादियों की ली जाएगी खबर!                       1   \n",
              "12  यहाँ देश मैं ना जाने कितने लोग भोजन के लिए परे...                       0   \n",
              "13  पहले नारा था मन्दिर वहीं बनाएंगे, लेकिन अब नार...                       2   \n",
              "14  ये हैं हमारे संस्कार . जो पुलिस पर पत्थर फेंकन...                       0   \n",
              "15  मोदी विरोध में कब ये देश विरोधी हो गए पता ही न...                       0   \n",
              "16  Not many people know .. Vasco De Gama ... and ...                       0   \n",
              "17                 अयोध्या के बाद अब ब्रज की बारी ...                       1   \n",
              "18  प्रधानमंत्री नरेंद्र मोदी ने शिवाजी पार्क पहुं...                       2   \n",
              "19  दीपावली के बाद देश में मोमबत्तियां जन्मदिन के ...                       0   \n",
              "20  तैमूर खान की अम्मी करीना खान फिर हुई ट्रोल लोग...                       0   \n",
              "21  Fraud Article 35(A) is going to be declared il...                       0   \n",
              "22  एक मुस्लिम व्यक्ति ने रुबिका लियाकत को कही ऐसी...                       0   \n",
              "23  \"\"एक अच्छी माँ हर किसी के पास होती है लेकिन\"\" ...                       1   \n",
              "24  यदि आप इस बात से सहमत हैं तो इसे शेयर करें और ...                       1   \n",
              "25  मंदिरओ पे जबरन आक्रमण तो कभी सनातनी साधुओ पे प...                       0   \n",
              "26  इस्लामिक जिहादियों ने फिर पार कीं क्रूरता की ह...                       0   \n",
              "27  महाराष्ट्र #नाँदेंड में #सदगुरु_शिवचर्या की गल...                       0   \n",
              "28  खुदवा दो मस्जिदों की दीवारें वहां भी महादेव के...                       0   \n",
              "29             Modi जी आपको शर्म नहीं आती पायल रोहतगी                       0   \n",
              "30  तारक मेहता का उल्टा चश्मा की पुरानी सोनू ने नए...                       1   \n",
              "31  गाय को काटकर खाने वाले और गाय को घर की पहली रो...                       0   \n",
              "32  अक्सर हिंदुओं को कई लोग व्यंग कसते हैं , गौ को...                       1   \n",
              "33  केजरीवाल के इस मंत्री ने राम और कृष्ण के बारे ...                       0   \n",
              "34  अमेरिका पर बुरी तरीके से भड़का उठा पाकिस्तान, ...                       0   \n",
              "35  we are a political party (Akhand bharat party)...                       0   \n",
              "36  https://youtu.be/ZvR2n5txfCA:=:https://www.you...                       1   \n",
              "37  पूरे परिवार का एक एक कलंक सामने आएगा, इतिहास य...                       0   \n",
              "38  राम मंदिर निर्माण के यज्ञ में संजय जैसे न जाने...                       0   \n",
              "39  शक्ति कपूर का बेटा हुआ ड्र-ग्स मामले में गिरफ्...                       0   \n",
              "\n",
              "    messageHate.score  \n",
              "0                   1  \n",
              "1                   1  \n",
              "2                   0  \n",
              "3                   1  \n",
              "4                   0  \n",
              "5                   1  \n",
              "6                   0  \n",
              "7                   0  \n",
              "8                   1  \n",
              "9                   0  \n",
              "10                  0  \n",
              "11                  1  \n",
              "12                  1  \n",
              "13                  1  \n",
              "14                  1  \n",
              "15                  1  \n",
              "16                  1  \n",
              "17                  0  \n",
              "18                  0  \n",
              "19                  1  \n",
              "20                  1  \n",
              "21                  0  \n",
              "22                  1  \n",
              "23                  0  \n",
              "24                  0  \n",
              "25                  1  \n",
              "26                  1  \n",
              "27                  0  \n",
              "28                  1  \n",
              "29                  0  \n",
              "30                  0  \n",
              "31                  1  \n",
              "32                  0  \n",
              "33                  1  \n",
              "34                  1  \n",
              "35                  1  \n",
              "36                  0  \n",
              "37                  0  \n",
              "38                  1  \n",
              "39                  0  "
            ],
            "text/html": [
              "\n",
              "  <div id=\"df-e210774a-dc72-47f3-8483-c058eb044259\">\n",
              "    <div class=\"colab-df-container\">\n",
              "      <div>\n",
              "<style scoped>\n",
              "    .dataframe tbody tr th:only-of-type {\n",
              "        vertical-align: middle;\n",
              "    }\n",
              "\n",
              "    .dataframe tbody tr th {\n",
              "        vertical-align: top;\n",
              "    }\n",
              "\n",
              "    .dataframe thead th {\n",
              "        text-align: right;\n",
              "    }\n",
              "</style>\n",
              "<table border=\"1\" class=\"dataframe\">\n",
              "  <thead>\n",
              "    <tr style=\"text-align: right;\">\n",
              "      <th></th>\n",
              "      <th>message</th>\n",
              "      <th>messageSentiment.score</th>\n",
              "      <th>messageHate.score</th>\n",
              "    </tr>\n",
              "  </thead>\n",
              "  <tbody>\n",
              "    <tr>\n",
              "      <th>0</th>\n",
              "      <td>ये मुगलों का आभार भी जता चुकी है!</td>\n",
              "      <td>2</td>\n",
              "      <td>1</td>\n",
              "    </tr>\n",
              "    <tr>\n",
              "      <th>1</th>\n",
              "      <td>सवाल पूछता है ब्रह्मर्षि किस 🕌मस्जिद में हवन 🔥...</td>\n",
              "      <td>1</td>\n",
              "      <td>1</td>\n",
              "    </tr>\n",
              "    <tr>\n",
              "      <th>2</th>\n",
              "      <td>कुरान की 26 आयतों को हटाने के लिए वसीम रिज़वी न...</td>\n",
              "      <td>1</td>\n",
              "      <td>0</td>\n",
              "    </tr>\n",
              "    <tr>\n",
              "      <th>3</th>\n",
              "      <td>जब तक अदालत दोषी करार ना दे तब तक वाड्रा को अप...</td>\n",
              "      <td>0</td>\n",
              "      <td>1</td>\n",
              "    </tr>\n",
              "    <tr>\n",
              "      <th>4</th>\n",
              "      <td>यूपी - 2016 की परेड यूपी - 2022 की परेड</td>\n",
              "      <td>1</td>\n",
              "      <td>0</td>\n",
              "    </tr>\n",
              "    <tr>\n",
              "      <th>5</th>\n",
              "      <td>उल्लू को सूर्य से परेशानी हैं, और उल्लू के पठ्...</td>\n",
              "      <td>2</td>\n",
              "      <td>1</td>\n",
              "    </tr>\n",
              "    <tr>\n",
              "      <th>6</th>\n",
              "      <td>एक छोटी सी मुहिम से जुड़ते चले अगली बार पछताना...</td>\n",
              "      <td>1</td>\n",
              "      <td>0</td>\n",
              "    </tr>\n",
              "    <tr>\n",
              "      <th>7</th>\n",
              "      <td>प्रशांत किशोर ने लिख दिया था ऐसा,PM मोदी के ऑफ...</td>\n",
              "      <td>1</td>\n",
              "      <td>0</td>\n",
              "    </tr>\n",
              "    <tr>\n",
              "      <th>8</th>\n",
              "      <td>370 हटने के बाद कश्मीर में अब जो शांति है ,शान...</td>\n",
              "      <td>0</td>\n",
              "      <td>1</td>\n",
              "    </tr>\n",
              "    <tr>\n",
              "      <th>9</th>\n",
              "      <td>विक्की-कैटरीना कैफ के Wedding Venue का हुआ खुल...</td>\n",
              "      <td>1</td>\n",
              "      <td>0</td>\n",
              "    </tr>\n",
              "    <tr>\n",
              "      <th>10</th>\n",
              "      <td>#कड़ी_कार्यवाही अनंतनाग में 3 आतंकवादी रवाना 72...</td>\n",
              "      <td>1</td>\n",
              "      <td>0</td>\n",
              "    </tr>\n",
              "    <tr>\n",
              "      <th>11</th>\n",
              "      <td>अब एक-एक जिहादियों की ली जाएगी खबर!</td>\n",
              "      <td>1</td>\n",
              "      <td>1</td>\n",
              "    </tr>\n",
              "    <tr>\n",
              "      <th>12</th>\n",
              "      <td>यहाँ देश मैं ना जाने कितने लोग भोजन के लिए परे...</td>\n",
              "      <td>0</td>\n",
              "      <td>1</td>\n",
              "    </tr>\n",
              "    <tr>\n",
              "      <th>13</th>\n",
              "      <td>पहले नारा था मन्दिर वहीं बनाएंगे, लेकिन अब नार...</td>\n",
              "      <td>2</td>\n",
              "      <td>1</td>\n",
              "    </tr>\n",
              "    <tr>\n",
              "      <th>14</th>\n",
              "      <td>ये हैं हमारे संस्कार . जो पुलिस पर पत्थर फेंकन...</td>\n",
              "      <td>0</td>\n",
              "      <td>1</td>\n",
              "    </tr>\n",
              "    <tr>\n",
              "      <th>15</th>\n",
              "      <td>मोदी विरोध में कब ये देश विरोधी हो गए पता ही न...</td>\n",
              "      <td>0</td>\n",
              "      <td>1</td>\n",
              "    </tr>\n",
              "    <tr>\n",
              "      <th>16</th>\n",
              "      <td>Not many people know .. Vasco De Gama ... and ...</td>\n",
              "      <td>0</td>\n",
              "      <td>1</td>\n",
              "    </tr>\n",
              "    <tr>\n",
              "      <th>17</th>\n",
              "      <td>अयोध्या के बाद अब ब्रज की बारी ...</td>\n",
              "      <td>1</td>\n",
              "      <td>0</td>\n",
              "    </tr>\n",
              "    <tr>\n",
              "      <th>18</th>\n",
              "      <td>प्रधानमंत्री नरेंद्र मोदी ने शिवाजी पार्क पहुं...</td>\n",
              "      <td>2</td>\n",
              "      <td>0</td>\n",
              "    </tr>\n",
              "    <tr>\n",
              "      <th>19</th>\n",
              "      <td>दीपावली के बाद देश में मोमबत्तियां जन्मदिन के ...</td>\n",
              "      <td>0</td>\n",
              "      <td>1</td>\n",
              "    </tr>\n",
              "    <tr>\n",
              "      <th>20</th>\n",
              "      <td>तैमूर खान की अम्मी करीना खान फिर हुई ट्रोल लोग...</td>\n",
              "      <td>0</td>\n",
              "      <td>1</td>\n",
              "    </tr>\n",
              "    <tr>\n",
              "      <th>21</th>\n",
              "      <td>Fraud Article 35(A) is going to be declared il...</td>\n",
              "      <td>0</td>\n",
              "      <td>0</td>\n",
              "    </tr>\n",
              "    <tr>\n",
              "      <th>22</th>\n",
              "      <td>एक मुस्लिम व्यक्ति ने रुबिका लियाकत को कही ऐसी...</td>\n",
              "      <td>0</td>\n",
              "      <td>1</td>\n",
              "    </tr>\n",
              "    <tr>\n",
              "      <th>23</th>\n",
              "      <td>\"\"एक अच्छी माँ हर किसी के पास होती है लेकिन\"\" ...</td>\n",
              "      <td>1</td>\n",
              "      <td>0</td>\n",
              "    </tr>\n",
              "    <tr>\n",
              "      <th>24</th>\n",
              "      <td>यदि आप इस बात से सहमत हैं तो इसे शेयर करें और ...</td>\n",
              "      <td>1</td>\n",
              "      <td>0</td>\n",
              "    </tr>\n",
              "    <tr>\n",
              "      <th>25</th>\n",
              "      <td>मंदिरओ पे जबरन आक्रमण तो कभी सनातनी साधुओ पे प...</td>\n",
              "      <td>0</td>\n",
              "      <td>1</td>\n",
              "    </tr>\n",
              "    <tr>\n",
              "      <th>26</th>\n",
              "      <td>इस्लामिक जिहादियों ने फिर पार कीं क्रूरता की ह...</td>\n",
              "      <td>0</td>\n",
              "      <td>1</td>\n",
              "    </tr>\n",
              "    <tr>\n",
              "      <th>27</th>\n",
              "      <td>महाराष्ट्र #नाँदेंड में #सदगुरु_शिवचर्या की गल...</td>\n",
              "      <td>0</td>\n",
              "      <td>0</td>\n",
              "    </tr>\n",
              "    <tr>\n",
              "      <th>28</th>\n",
              "      <td>खुदवा दो मस्जिदों की दीवारें वहां भी महादेव के...</td>\n",
              "      <td>0</td>\n",
              "      <td>1</td>\n",
              "    </tr>\n",
              "    <tr>\n",
              "      <th>29</th>\n",
              "      <td>Modi जी आपको शर्म नहीं आती पायल रोहतगी</td>\n",
              "      <td>0</td>\n",
              "      <td>0</td>\n",
              "    </tr>\n",
              "    <tr>\n",
              "      <th>30</th>\n",
              "      <td>तारक मेहता का उल्टा चश्मा की पुरानी सोनू ने नए...</td>\n",
              "      <td>1</td>\n",
              "      <td>0</td>\n",
              "    </tr>\n",
              "    <tr>\n",
              "      <th>31</th>\n",
              "      <td>गाय को काटकर खाने वाले और गाय को घर की पहली रो...</td>\n",
              "      <td>0</td>\n",
              "      <td>1</td>\n",
              "    </tr>\n",
              "    <tr>\n",
              "      <th>32</th>\n",
              "      <td>अक्सर हिंदुओं को कई लोग व्यंग कसते हैं , गौ को...</td>\n",
              "      <td>1</td>\n",
              "      <td>0</td>\n",
              "    </tr>\n",
              "    <tr>\n",
              "      <th>33</th>\n",
              "      <td>केजरीवाल के इस मंत्री ने राम और कृष्ण के बारे ...</td>\n",
              "      <td>0</td>\n",
              "      <td>1</td>\n",
              "    </tr>\n",
              "    <tr>\n",
              "      <th>34</th>\n",
              "      <td>अमेरिका पर बुरी तरीके से भड़का उठा पाकिस्तान, ...</td>\n",
              "      <td>0</td>\n",
              "      <td>1</td>\n",
              "    </tr>\n",
              "    <tr>\n",
              "      <th>35</th>\n",
              "      <td>we are a political party (Akhand bharat party)...</td>\n",
              "      <td>0</td>\n",
              "      <td>1</td>\n",
              "    </tr>\n",
              "    <tr>\n",
              "      <th>36</th>\n",
              "      <td>https://youtu.be/ZvR2n5txfCA:=:https://www.you...</td>\n",
              "      <td>1</td>\n",
              "      <td>0</td>\n",
              "    </tr>\n",
              "    <tr>\n",
              "      <th>37</th>\n",
              "      <td>पूरे परिवार का एक एक कलंक सामने आएगा, इतिहास य...</td>\n",
              "      <td>0</td>\n",
              "      <td>0</td>\n",
              "    </tr>\n",
              "    <tr>\n",
              "      <th>38</th>\n",
              "      <td>राम मंदिर निर्माण के यज्ञ में संजय जैसे न जाने...</td>\n",
              "      <td>0</td>\n",
              "      <td>1</td>\n",
              "    </tr>\n",
              "    <tr>\n",
              "      <th>39</th>\n",
              "      <td>शक्ति कपूर का बेटा हुआ ड्र-ग्स मामले में गिरफ्...</td>\n",
              "      <td>0</td>\n",
              "      <td>0</td>\n",
              "    </tr>\n",
              "  </tbody>\n",
              "</table>\n",
              "</div>\n",
              "      <button class=\"colab-df-convert\" onclick=\"convertToInteractive('df-e210774a-dc72-47f3-8483-c058eb044259')\"\n",
              "              title=\"Convert this dataframe to an interactive table.\"\n",
              "              style=\"display:none;\">\n",
              "        \n",
              "  <svg xmlns=\"http://www.w3.org/2000/svg\" height=\"24px\"viewBox=\"0 0 24 24\"\n",
              "       width=\"24px\">\n",
              "    <path d=\"M0 0h24v24H0V0z\" fill=\"none\"/>\n",
              "    <path d=\"M18.56 5.44l.94 2.06.94-2.06 2.06-.94-2.06-.94-.94-2.06-.94 2.06-2.06.94zm-11 1L8.5 8.5l.94-2.06 2.06-.94-2.06-.94L8.5 2.5l-.94 2.06-2.06.94zm10 10l.94 2.06.94-2.06 2.06-.94-2.06-.94-.94-2.06-.94 2.06-2.06.94z\"/><path d=\"M17.41 7.96l-1.37-1.37c-.4-.4-.92-.59-1.43-.59-.52 0-1.04.2-1.43.59L10.3 9.45l-7.72 7.72c-.78.78-.78 2.05 0 2.83L4 21.41c.39.39.9.59 1.41.59.51 0 1.02-.2 1.41-.59l7.78-7.78 2.81-2.81c.8-.78.8-2.07 0-2.86zM5.41 20L4 18.59l7.72-7.72 1.47 1.35L5.41 20z\"/>\n",
              "  </svg>\n",
              "      </button>\n",
              "      \n",
              "  <style>\n",
              "    .colab-df-container {\n",
              "      display:flex;\n",
              "      flex-wrap:wrap;\n",
              "      gap: 12px;\n",
              "    }\n",
              "\n",
              "    .colab-df-convert {\n",
              "      background-color: #E8F0FE;\n",
              "      border: none;\n",
              "      border-radius: 50%;\n",
              "      cursor: pointer;\n",
              "      display: none;\n",
              "      fill: #1967D2;\n",
              "      height: 32px;\n",
              "      padding: 0 0 0 0;\n",
              "      width: 32px;\n",
              "    }\n",
              "\n",
              "    .colab-df-convert:hover {\n",
              "      background-color: #E2EBFA;\n",
              "      box-shadow: 0px 1px 2px rgba(60, 64, 67, 0.3), 0px 1px 3px 1px rgba(60, 64, 67, 0.15);\n",
              "      fill: #174EA6;\n",
              "    }\n",
              "\n",
              "    [theme=dark] .colab-df-convert {\n",
              "      background-color: #3B4455;\n",
              "      fill: #D2E3FC;\n",
              "    }\n",
              "\n",
              "    [theme=dark] .colab-df-convert:hover {\n",
              "      background-color: #434B5C;\n",
              "      box-shadow: 0px 1px 3px 1px rgba(0, 0, 0, 0.15);\n",
              "      filter: drop-shadow(0px 1px 2px rgba(0, 0, 0, 0.3));\n",
              "      fill: #FFFFFF;\n",
              "    }\n",
              "  </style>\n",
              "\n",
              "      <script>\n",
              "        const buttonEl =\n",
              "          document.querySelector('#df-e210774a-dc72-47f3-8483-c058eb044259 button.colab-df-convert');\n",
              "        buttonEl.style.display =\n",
              "          google.colab.kernel.accessAllowed ? 'block' : 'none';\n",
              "\n",
              "        async function convertToInteractive(key) {\n",
              "          const element = document.querySelector('#df-e210774a-dc72-47f3-8483-c058eb044259');\n",
              "          const dataTable =\n",
              "            await google.colab.kernel.invokeFunction('convertToInteractive',\n",
              "                                                     [key], {});\n",
              "          if (!dataTable) return;\n",
              "\n",
              "          const docLinkHtml = 'Like what you see? Visit the ' +\n",
              "            '<a target=\"_blank\" href=https://colab.research.google.com/notebooks/data_table.ipynb>data table notebook</a>'\n",
              "            + ' to learn more about interactive tables.';\n",
              "          element.innerHTML = '';\n",
              "          dataTable['output_type'] = 'display_data';\n",
              "          await google.colab.output.renderOutput(dataTable, element);\n",
              "          const docLink = document.createElement('div');\n",
              "          docLink.innerHTML = docLinkHtml;\n",
              "          element.appendChild(docLink);\n",
              "        }\n",
              "      </script>\n",
              "    </div>\n",
              "  </div>\n",
              "  "
            ]
          },
          "metadata": {},
          "execution_count": 14
        }
      ]
    },
    {
      "cell_type": "markdown",
      "source": [
        "Plot histogram of the annotation labels"
      ],
      "metadata": {
        "id": "X_QbYZ0oDveh"
      }
    },
    {
      "cell_type": "code",
      "source": [
        "x = np.arange(n_labels)\n",
        "bins = np.linspace(0, 1, 10)\n",
        "\n",
        "fig, ax = plt.subplots (figsize=(5, 3), dpi=140)\n",
        "plt.title ('Histogram of the labels in the annotation dataset')\n",
        "plt.hist (df_anot ['messageHate.score'], bins )\n",
        "ax.set_ylabel ('Count')\n",
        "ax.set_xticks (x)\n",
        "ax.set_xticklabels (list(labels_ids_hate.keys()))\n",
        "#ax.legend (loc='upper right')\n",
        "plt.show ()"
      ],
      "metadata": {
        "colab": {
          "base_uri": "https://localhost:8080/",
          "height": 424
        },
        "id": "ZGyBG8A1Dx_4",
        "outputId": "67514302-7449-47ec-fe96-441e8aa662c8"
      },
      "execution_count": 15,
      "outputs": [
        {
          "output_type": "display_data",
          "data": {
            "text/plain": [
              "<Figure size 700x420 with 1 Axes>"
            ],
            "image/png": "[encoded data removed]"
          },
          "metadata": {
            "needs_background": "light"
          }
        }
      ]
    },
    {
      "cell_type": "markdown",
      "source": [
        "Save the annotation dataset as CSV"
      ],
      "metadata": {
        "id": "IFcD6tZmE1tG"
      }
    },
    {
      "cell_type": "code",
      "source": [
        "df_anot.to_csv('/content/drive/MyDrive/CrowdTangle-NLP/FB-annotation-dataset.csv', index=False)"
      ],
      "metadata": {
        "id": "mq24NkYoE4b3"
      },
      "execution_count": 16,
      "outputs": []
    }
  ],
  "metadata": {
    "accelerator": "GPU",
    "colab": {
      "collapsed_sections": [],
      "provenance": []
    },
    "kernelspec": {
      "display_name": "Python 3",
      "name": "python3"
    },
    "language_info": {
      "name": "python"
    }
  },
  "nbformat": 4,
  "nbformat_minor": 0
}